{
  "cells": [
    {
      "cell_type": "markdown",
      "metadata": {
        "id": "dGANfdj8_UQl"
      },
      "source": [
        "# COGS 108 - Final Project"
      ]
    },
    {
      "cell_type": "markdown",
      "source": [
        "# Permissions\n",
        "Place an X in the appropriate bracket below to specify if you would like your group's project to be made available to the public. (Note that student names will be included (but PIDs will be scraped from any groups who include their PIDs).\n",
        "\n",
        "* [X] [X] YES - make available\n",
        "* [ ] NO - keep private"
      ],
      "metadata": {
        "id": "dKhpYbnVR5-v"
      }
    },
    {
      "cell_type": "markdown",
      "source": [
        "# **Vidio Link**"
      ],
      "metadata": {
        "id": "mSyE4qHLsqqp"
      }
    },
    {
      "cell_type": "markdown",
      "source": [
        "https://youtu.be/CInUs5Utrcs\n",
        "Hope you enjoy it!"
      ],
      "metadata": {
        "id": "-VMD-lCqstyJ"
      }
    },
    {
      "cell_type": "markdown",
      "source": [
        "# Overview\n"
      ],
      "metadata": {
        "id": "HkD51NBoSKKK"
      }
    },
    {
      "cell_type": "markdown",
      "source": [
        "we will analyze which factors have the most significant impact on the salary levels of data analyst and to what extent each factor affects these salary levels. Variables such as company rating, location (city), soft perks such as vacation or insurance availability, and required skills will be carefully examined in the context of the provided dataset to systematically determine their respective effects on data analyst salaries."
      ],
      "metadata": {
        "id": "UosEHWYLTot3"
      }
    },
    {
      "cell_type": "markdown",
      "metadata": {
        "id": "hvYMGreb_UQo"
      },
      "source": [
        "# Names\n",
        "\n",
        "- Xinhao Zhao\n",
        "- Kunhao Song\n",
        "- Zirui Lin\n",
        "- Shiyuan Wang"
      ]
    },
    {
      "cell_type": "markdown",
      "source": [
        "# Background & Prior Work\n"
      ],
      "metadata": {
        "id": "vsPcVS26Sp3l"
      }
    },
    {
      "cell_type": "markdown",
      "source": [
        "The software development industry has experienced rapid growth and transformation over the past few decades, making it a critical sector for economic development and innovation. As the industry continues to evolve, attracting and retaining top talent has become increasingly important for companies. In this context, understanding the factors that influence software developers' salary levels is crucial for both job seekers and employers seeking to stay competitive in the market. The Glassdoor jobs dataset offers a unique opportunity to investigate how variables such as job title, company rating, company size, location (city), and industry can affect the compensation of software developers within the ever-changing landscape of the technology industry.\n",
        "\n",
        "Previous research has explored the impact of some factors on software developers' salaries. For instance, Stack Overflow's Developer Survey 2020[1] analyzed data from over 65,000 developers worldwide. According to the survey, developers with 10-19 years of experience earned a median salary of USD 74,000, while those with 20+ years of experience earned a median salary of USD 80,000. Additionally, the survey revealed that developers with a doctoral degree had a median salary of USD 84,000, compared to USD 60,000 for those with only a high school diploma. In summary, the Stack Overflow Developer Survey 2020 demonstrates that experience and education play crucial roles in determining software developers' salaries, with increased levels of both factors leading to higher compensation.\n",
        "\n",
        "According to the U.S. Bureau of Labor Statistics (BLS)[2], the median annual wage for software developers in 2020 was USD 110,140, with the highest 10 percent earning more than USD 170,100. The BLS also reports that the employment of software developers is projected to grow 22 percent from 2020 to 2030, which is much faster than the average for all occupations. This rapid growth suggests that the demand for skilled software developers is increasing rapidly, leading to heightened competition within the industry due to the rising number of professionals entering the field. In light of this information, the data indicates that the level of expertise and proficiency of employees could be a critical factor in their success in the current market landscape.\n",
        "\n",
        "In our analysis, we aim to build on this prior work by examining the Glassdoor jobs dataset specifically and investigating the impact of additional factors, such as company rating and industry, on software developers' salary levels. By considering a broader set of factors and leveraging the richness of the Glassdoor dataset, we hope to provide a more comprehensive understanding of the determinants of software developers' salaries.\n",
        "\n",
        "\n",
        "References (include links):\n",
        "*  1. Stack Overflow. (2020). Stack Overflow Developer Survey 2020. Retrieved from https://insights.stackoverflow.com/survey/2020\n",
        "*  2. U.S. Bureau of Labor Statistics. (2021). Software Developers: Occupational Outlook Handbook. Retrieved from https://www.bls.gov/ooh/computer-and-information-technology/software-developers.htm"
      ],
      "metadata": {
        "id": "2QINII7UTyIB"
      }
    },
    {
      "cell_type": "markdown",
      "source": [
        "# Hypothesis\n"
      ],
      "metadata": {
        "id": "ZeWO9jEHTLNB"
      }
    },
    {
      "cell_type": "markdown",
      "source": [
        "Our hypotheses center around the significant predictors of a tech worker's annual salary. We propose two hypotheses:\n",
        "\n",
        "**Null Hypothesis** (H0): The coding skills mastered by an individual, their location (state and city), and the company they work for have no significant impact on their annual salary. This implies that irrespective of these factors, the annual salaries of tech workers would essentially be the same.\n",
        "\n",
        "**Alternative Hypothesis** (H1): The coding skills mastered, the location of work, and the company one works for are significant predictors of a tech worker's annual salary. This suggests that varying coding skills, different states and cities, and different companies may correspond to different salary levels.\n",
        "\n",
        "The null hypothesis represents a scenario of no effect, while the alternative hypothesis stands true if the null hypothesis is rejected. Our initial attempt at predicting salaries based on the number of coding skills mastered proved ineffective. Hence, we have refined our approach to focus not just on the quantity, but also on the types of coding skills one masters, along with the influence of location and the employing company."
      ],
      "metadata": {
        "id": "rPTyk2LbT1eP"
      }
    },
    {
      "cell_type": "markdown",
      "metadata": {
        "id": "5UFSDtPt_UQo"
      },
      "source": [
        "<a id='research_question'></a>\n",
        "# Research Question"
      ]
    },
    {
      "cell_type": "markdown",
      "metadata": {
        "id": "zLkBlkT5_UQp"
      },
      "source": [
        "Using the Data Analyst Job Postings dataset, we will analyze which factors have the most significant impact on the salary levels of data analysts and to what extent each factor affects these salary levels. Variables such as company rating, location (city), soft perks such as vacation or insurance availability, and required skills will be carefully examined in the context of the provided dataset to systematically determine their respective effects on data analyst salaries.\n",
        "\n"
      ]
    },
    {
      "cell_type": "markdown",
      "metadata": {
        "id": "AdYV2Fam_UQp"
      },
      "source": [
        "# Dataset(s)"
      ]
    },
    {
      "cell_type": "markdown",
      "metadata": {
        "id": "eu5x6oKj_UQp"
      },
      "source": [
        "\n",
        "- Dataset Name: Data Analyst Job Postings [Pay, Skills, Benefits]\n",
        "- Link to the dataset: https://www.kaggle.com/datasets/lukebarousse/data-analyst-job-postings-google-search\n",
        "- Number of observations: 19039 rows, we used the first 4039 rows of the data at the beginning of the process because it was too large\n",
        "\n",
        "This dataset pulls job postings for Data Analyst jobs in the United States from Google's search results. Data collection begins on November 4, 2022 and continues to grow, with approximately 100 new jobs expected to be added to the dataset each day."
      ]
    },
    {
      "cell_type": "markdown",
      "metadata": {
        "id": "nkI1fR4r_UQp"
      },
      "source": [
        "# Setup"
      ]
    },
    {
      "cell_type": "code",
      "execution_count": null,
      "metadata": {
        "id": "MqtY_4FU_UQq"
      },
      "outputs": [],
      "source": [
        "import pandas as pd\n",
        "import numpy as np\n",
        "import matplotlib.pyplot as plt\n",
        "import re\n",
        "import seaborn as sns\n",
        "from nltk.stem import PorterStemmer\n",
        "from collections import Counter\n",
        "from sklearn.preprocessing import StandardScaler\n",
        "from sklearn.preprocessing import LabelEncoder\n",
        "import statsmodels.api as sm\n",
        "import statsmodels.formula.api as smf"
      ]
    },
    {
      "cell_type": "markdown",
      "metadata": {
        "id": "PLJ65JCR_UQr"
      },
      "source": [
        "# Data Cleaning"
      ]
    },
    {
      "cell_type": "markdown",
      "metadata": {
        "id": "iKODERhG_UQr"
      },
      "source": [
        "Describe your data cleaning steps here."
      ]
    },
    {
      "cell_type": "markdown",
      "source": [
        "1. **company_name**: The name of the company.\n",
        "2. **location**: The geographical location of the job.\n",
        "3. **date_time**: The date and time of the job posting.\n",
        "4. **salary_avg**: The average salary for the job.\n",
        "5. **salary_min**: The minimum salary for the job.\n",
        "6. **salary_max**: The maximum salary for the job.\n",
        "7. **Full-Time require**: Whether the job is full-time.\n",
        "8. **Health insurance**: If health insurance is provided.\n",
        "9. **Dental insurance**: If dental insurance is provided.\n",
        "10. **Paid time off**: If paid time off is included.\n",
        "11. **Work from home**: If remote work is possible.\n",
        "12. **mysql**: If knowledge of MySQL is required.\n",
        "13. **excel**: If proficiency in Excel is required.\n",
        "14. **python**: If Python programming skills are required.\n",
        "15. **r**: If R programming skills are required.\n",
        "16. **c**: If C programming skills are required.\n",
        "17. **java**: If Java programming skills are required.\n",
        "18. **aws**: If familiarity with AWS is required.\n",
        "19. **spark**: If experience with Apache Spark is required.\n",
        "\n"
      ],
      "metadata": {
        "id": "HeGYOryme4go"
      }
    },
    {
      "cell_type": "code",
      "execution_count": null,
      "metadata": {
        "colab": {
          "base_uri": "https://localhost:8080/",
          "height": 716
        },
        "id": "2vkt89aQ_UQr",
        "outputId": "26a3a6bf-5b54-4bfe-e8ae-013ff4d01504"
      },
      "outputs": [
        {
          "output_type": "execute_result",
          "data": {
            "text/plain": [
              "   Unnamed: 0  index                                              title  \\\n",
              "0           6      6  Experienced Data Analyst Required: Dynamic Dat...   \n",
              "1          32     32                            Data Ware House Analyst   \n",
              "2          33     33                               Systems Data Analyst   \n",
              "3          34     34                                     Data Scientist   \n",
              "4          35     35                                    Data Analyst II   \n",
              "\n",
              "                company_name            location              via  \\\n",
              "0                     Upwork           Anywhere        via Upwork   \n",
              "1  Acadia Technologies, Inc.       United States         via Dice   \n",
              "2          rays technologies       United States  via FOX4KC Jobs   \n",
              "3            Orbital Insight    United States     via Ai-Jobs.net   \n",
              "4               EDWARD JONES         Chamois, MO    via WDHN Jobs   \n",
              "\n",
              "                                         description  \\\n",
              "0  We are actively seeking a highly skilled and e...   \n",
              "1  Role : Data Ware House Analyst\\n\\nSkills ...\\n...   \n",
              "2  What You Will Do:\\n\\nInspect, cleanse, transfo...   \n",
              "3  Data science and computer vision are the heart...   \n",
              "4  At Edward Jones, we help clients achieve their...   \n",
              "\n",
              "                                          extensions  \\\n",
              "0  ['10 hours ago', '37–75 an hour', 'Work from h...   \n",
              "1  ['1 hour ago', '60K–80K a year', 'Full-time', ...   \n",
              "2  ['1 hour ago', '90K–100K a year', 'Full-time',...   \n",
              "3    ['1 hour ago', '129K–186K a year', 'Full-time']   \n",
              "4  ['1 hour ago', '76,798–130,764 a year', 'Full-...   \n",
              "\n",
              "                                              job_id  \\\n",
              "0  eyJqb2JfdGl0bGUiOiJFeHBlcmllbmNlZCBEYXRhIEFuYW...   \n",
              "1  eyJqb2JfdGl0bGUiOiJEYXRhIFdhcmUgSG91c2UgQW5hbH...   \n",
              "2  eyJqb2JfdGl0bGUiOiJTeXN0ZW1zIERhdGEgQW5hbHlzdC...   \n",
              "3  eyJqb2JfdGl0bGUiOiJEYXRhIFNjaWVudGlzdCIsImh0aW...   \n",
              "4  eyJqb2JfdGl0bGUiOiJEYXRhIEFuYWx5c3QgSUkiLCJodG...   \n",
              "\n",
              "                                           thumbnail  ... work_from_home  \\\n",
              "0                                                NaN  ...           True   \n",
              "1                                                NaN  ...            NaN   \n",
              "2                                                NaN  ...            NaN   \n",
              "3  https://encrypted-tbn0.gstatic.com/images?q=tb...  ...            NaN   \n",
              "4                                                NaN  ...            NaN   \n",
              "\n",
              "                  salary   search_term                   date_time  \\\n",
              "0          37–75 an hour  data analyst  2023-05-21 07:00:30.990626   \n",
              "1         60K–80K a year  data analyst  2022-12-29 00:19:20.229733   \n",
              "2        90K–100K a year  data analyst  2022-11-09 04:00:16.330489   \n",
              "3       129K–186K a year  data analyst  2023-05-10 03:00:55.399145   \n",
              "4  76,798–130,764 a year  data analyst  2022-11-22 04:00:11.811065   \n",
              "\n",
              "  search_location commute_time salary_avg  salary_min  salary_max  \\\n",
              "0   United States          NaN       56.0        37.0        75.0   \n",
              "1   United States          NaN    70000.0     60000.0     80000.0   \n",
              "2   United States          NaN    95000.0     90000.0    100000.0   \n",
              "3   United States          NaN   157500.0    129000.0    186000.0   \n",
              "4   United States          NaN   103781.0     76798.0    130764.0   \n",
              "\n",
              "                                  description_tokens  \n",
              "0                                   ['sql', 'excel']  \n",
              "1                                    ['ssis', 'sql']  \n",
              "2      ['hadoop', 'aws', 'postgresql', 'sharepoint']  \n",
              "3                              ['python', 'pytorch']  \n",
              "4  ['python', 'sas', 'r', 'snowflake', 'sql', 'sp...  \n",
              "\n",
              "[5 rows x 22 columns]"
            ],
            "text/html": [
              "\n",
              "  <div id=\"df-bdd61bcc-b084-4ff8-8181-d8538bc5ea6b\">\n",
              "    <div class=\"colab-df-container\">\n",
              "      <div>\n",
              "<style scoped>\n",
              "    .dataframe tbody tr th:only-of-type {\n",
              "        vertical-align: middle;\n",
              "    }\n",
              "\n",
              "    .dataframe tbody tr th {\n",
              "        vertical-align: top;\n",
              "    }\n",
              "\n",
              "    .dataframe thead th {\n",
              "        text-align: right;\n",
              "    }\n",
              "</style>\n",
              "<table border=\"1\" class=\"dataframe\">\n",
              "  <thead>\n",
              "    <tr style=\"text-align: right;\">\n",
              "      <th></th>\n",
              "      <th>Unnamed: 0</th>\n",
              "      <th>index</th>\n",
              "      <th>title</th>\n",
              "      <th>company_name</th>\n",
              "      <th>location</th>\n",
              "      <th>via</th>\n",
              "      <th>description</th>\n",
              "      <th>extensions</th>\n",
              "      <th>job_id</th>\n",
              "      <th>thumbnail</th>\n",
              "      <th>...</th>\n",
              "      <th>work_from_home</th>\n",
              "      <th>salary</th>\n",
              "      <th>search_term</th>\n",
              "      <th>date_time</th>\n",
              "      <th>search_location</th>\n",
              "      <th>commute_time</th>\n",
              "      <th>salary_avg</th>\n",
              "      <th>salary_min</th>\n",
              "      <th>salary_max</th>\n",
              "      <th>description_tokens</th>\n",
              "    </tr>\n",
              "  </thead>\n",
              "  <tbody>\n",
              "    <tr>\n",
              "      <th>0</th>\n",
              "      <td>6</td>\n",
              "      <td>6</td>\n",
              "      <td>Experienced Data Analyst Required: Dynamic Dat...</td>\n",
              "      <td>Upwork</td>\n",
              "      <td>Anywhere</td>\n",
              "      <td>via Upwork</td>\n",
              "      <td>We are actively seeking a highly skilled and e...</td>\n",
              "      <td>['10 hours ago', '37–75 an hour', 'Work from h...</td>\n",
              "      <td>eyJqb2JfdGl0bGUiOiJFeHBlcmllbmNlZCBEYXRhIEFuYW...</td>\n",
              "      <td>NaN</td>\n",
              "      <td>...</td>\n",
              "      <td>True</td>\n",
              "      <td>37–75 an hour</td>\n",
              "      <td>data analyst</td>\n",
              "      <td>2023-05-21 07:00:30.990626</td>\n",
              "      <td>United States</td>\n",
              "      <td>NaN</td>\n",
              "      <td>56.0</td>\n",
              "      <td>37.0</td>\n",
              "      <td>75.0</td>\n",
              "      <td>['sql', 'excel']</td>\n",
              "    </tr>\n",
              "    <tr>\n",
              "      <th>1</th>\n",
              "      <td>32</td>\n",
              "      <td>32</td>\n",
              "      <td>Data Ware House Analyst</td>\n",
              "      <td>Acadia Technologies, Inc.</td>\n",
              "      <td>United States</td>\n",
              "      <td>via Dice</td>\n",
              "      <td>Role : Data Ware House Analyst\\n\\nSkills ...\\n...</td>\n",
              "      <td>['1 hour ago', '60K–80K a year', 'Full-time', ...</td>\n",
              "      <td>eyJqb2JfdGl0bGUiOiJEYXRhIFdhcmUgSG91c2UgQW5hbH...</td>\n",
              "      <td>NaN</td>\n",
              "      <td>...</td>\n",
              "      <td>NaN</td>\n",
              "      <td>60K–80K a year</td>\n",
              "      <td>data analyst</td>\n",
              "      <td>2022-12-29 00:19:20.229733</td>\n",
              "      <td>United States</td>\n",
              "      <td>NaN</td>\n",
              "      <td>70000.0</td>\n",
              "      <td>60000.0</td>\n",
              "      <td>80000.0</td>\n",
              "      <td>['ssis', 'sql']</td>\n",
              "    </tr>\n",
              "    <tr>\n",
              "      <th>2</th>\n",
              "      <td>33</td>\n",
              "      <td>33</td>\n",
              "      <td>Systems Data Analyst</td>\n",
              "      <td>rays technologies</td>\n",
              "      <td>United States</td>\n",
              "      <td>via FOX4KC Jobs</td>\n",
              "      <td>What You Will Do:\\n\\nInspect, cleanse, transfo...</td>\n",
              "      <td>['1 hour ago', '90K–100K a year', 'Full-time',...</td>\n",
              "      <td>eyJqb2JfdGl0bGUiOiJTeXN0ZW1zIERhdGEgQW5hbHlzdC...</td>\n",
              "      <td>NaN</td>\n",
              "      <td>...</td>\n",
              "      <td>NaN</td>\n",
              "      <td>90K–100K a year</td>\n",
              "      <td>data analyst</td>\n",
              "      <td>2022-11-09 04:00:16.330489</td>\n",
              "      <td>United States</td>\n",
              "      <td>NaN</td>\n",
              "      <td>95000.0</td>\n",
              "      <td>90000.0</td>\n",
              "      <td>100000.0</td>\n",
              "      <td>['hadoop', 'aws', 'postgresql', 'sharepoint']</td>\n",
              "    </tr>\n",
              "    <tr>\n",
              "      <th>3</th>\n",
              "      <td>34</td>\n",
              "      <td>34</td>\n",
              "      <td>Data Scientist</td>\n",
              "      <td>Orbital Insight</td>\n",
              "      <td>United States</td>\n",
              "      <td>via Ai-Jobs.net</td>\n",
              "      <td>Data science and computer vision are the heart...</td>\n",
              "      <td>['1 hour ago', '129K–186K a year', 'Full-time']</td>\n",
              "      <td>eyJqb2JfdGl0bGUiOiJEYXRhIFNjaWVudGlzdCIsImh0aW...</td>\n",
              "      <td>https://encrypted-tbn0.gstatic.com/images?q=tb...</td>\n",
              "      <td>...</td>\n",
              "      <td>NaN</td>\n",
              "      <td>129K–186K a year</td>\n",
              "      <td>data analyst</td>\n",
              "      <td>2023-05-10 03:00:55.399145</td>\n",
              "      <td>United States</td>\n",
              "      <td>NaN</td>\n",
              "      <td>157500.0</td>\n",
              "      <td>129000.0</td>\n",
              "      <td>186000.0</td>\n",
              "      <td>['python', 'pytorch']</td>\n",
              "    </tr>\n",
              "    <tr>\n",
              "      <th>4</th>\n",
              "      <td>35</td>\n",
              "      <td>35</td>\n",
              "      <td>Data Analyst II</td>\n",
              "      <td>EDWARD JONES</td>\n",
              "      <td>Chamois, MO</td>\n",
              "      <td>via WDHN Jobs</td>\n",
              "      <td>At Edward Jones, we help clients achieve their...</td>\n",
              "      <td>['1 hour ago', '76,798–130,764 a year', 'Full-...</td>\n",
              "      <td>eyJqb2JfdGl0bGUiOiJEYXRhIEFuYWx5c3QgSUkiLCJodG...</td>\n",
              "      <td>NaN</td>\n",
              "      <td>...</td>\n",
              "      <td>NaN</td>\n",
              "      <td>76,798–130,764 a year</td>\n",
              "      <td>data analyst</td>\n",
              "      <td>2022-11-22 04:00:11.811065</td>\n",
              "      <td>United States</td>\n",
              "      <td>NaN</td>\n",
              "      <td>103781.0</td>\n",
              "      <td>76798.0</td>\n",
              "      <td>130764.0</td>\n",
              "      <td>['python', 'sas', 'r', 'snowflake', 'sql', 'sp...</td>\n",
              "    </tr>\n",
              "  </tbody>\n",
              "</table>\n",
              "<p>5 rows × 22 columns</p>\n",
              "</div>\n",
              "      <button class=\"colab-df-convert\" onclick=\"convertToInteractive('df-bdd61bcc-b084-4ff8-8181-d8538bc5ea6b')\"\n",
              "              title=\"Convert this dataframe to an interactive table.\"\n",
              "              style=\"display:none;\">\n",
              "        \n",
              "  <svg xmlns=\"http://www.w3.org/2000/svg\" height=\"24px\"viewBox=\"0 0 24 24\"\n",
              "       width=\"24px\">\n",
              "    <path d=\"M0 0h24v24H0V0z\" fill=\"none\"/>\n",
              "    <path d=\"M18.56 5.44l.94 2.06.94-2.06 2.06-.94-2.06-.94-.94-2.06-.94 2.06-2.06.94zm-11 1L8.5 8.5l.94-2.06 2.06-.94-2.06-.94L8.5 2.5l-.94 2.06-2.06.94zm10 10l.94 2.06.94-2.06 2.06-.94-2.06-.94-.94-2.06-.94 2.06-2.06.94z\"/><path d=\"M17.41 7.96l-1.37-1.37c-.4-.4-.92-.59-1.43-.59-.52 0-1.04.2-1.43.59L10.3 9.45l-7.72 7.72c-.78.78-.78 2.05 0 2.83L4 21.41c.39.39.9.59 1.41.59.51 0 1.02-.2 1.41-.59l7.78-7.78 2.81-2.81c.8-.78.8-2.07 0-2.86zM5.41 20L4 18.59l7.72-7.72 1.47 1.35L5.41 20z\"/>\n",
              "  </svg>\n",
              "      </button>\n",
              "      \n",
              "  <style>\n",
              "    .colab-df-container {\n",
              "      display:flex;\n",
              "      flex-wrap:wrap;\n",
              "      gap: 12px;\n",
              "    }\n",
              "\n",
              "    .colab-df-convert {\n",
              "      background-color: #E8F0FE;\n",
              "      border: none;\n",
              "      border-radius: 50%;\n",
              "      cursor: pointer;\n",
              "      display: none;\n",
              "      fill: #1967D2;\n",
              "      height: 32px;\n",
              "      padding: 0 0 0 0;\n",
              "      width: 32px;\n",
              "    }\n",
              "\n",
              "    .colab-df-convert:hover {\n",
              "      background-color: #E2EBFA;\n",
              "      box-shadow: 0px 1px 2px rgba(60, 64, 67, 0.3), 0px 1px 3px 1px rgba(60, 64, 67, 0.15);\n",
              "      fill: #174EA6;\n",
              "    }\n",
              "\n",
              "    [theme=dark] .colab-df-convert {\n",
              "      background-color: #3B4455;\n",
              "      fill: #D2E3FC;\n",
              "    }\n",
              "\n",
              "    [theme=dark] .colab-df-convert:hover {\n",
              "      background-color: #434B5C;\n",
              "      box-shadow: 0px 1px 3px 1px rgba(0, 0, 0, 0.15);\n",
              "      filter: drop-shadow(0px 1px 2px rgba(0, 0, 0, 0.3));\n",
              "      fill: #FFFFFF;\n",
              "    }\n",
              "  </style>\n",
              "\n",
              "      <script>\n",
              "        const buttonEl =\n",
              "          document.querySelector('#df-bdd61bcc-b084-4ff8-8181-d8538bc5ea6b button.colab-df-convert');\n",
              "        buttonEl.style.display =\n",
              "          google.colab.kernel.accessAllowed ? 'block' : 'none';\n",
              "\n",
              "        async function convertToInteractive(key) {\n",
              "          const element = document.querySelector('#df-bdd61bcc-b084-4ff8-8181-d8538bc5ea6b');\n",
              "          const dataTable =\n",
              "            await google.colab.kernel.invokeFunction('convertToInteractive',\n",
              "                                                     [key], {});\n",
              "          if (!dataTable) return;\n",
              "\n",
              "          const docLinkHtml = 'Like what you see? Visit the ' +\n",
              "            '<a target=\"_blank\" href=https://colab.research.google.com/notebooks/data_table.ipynb>data table notebook</a>'\n",
              "            + ' to learn more about interactive tables.';\n",
              "          element.innerHTML = '';\n",
              "          dataTable['output_type'] = 'display_data';\n",
              "          await google.colab.output.renderOutput(dataTable, element);\n",
              "          const docLink = document.createElement('div');\n",
              "          docLink.innerHTML = docLinkHtml;\n",
              "          element.appendChild(docLink);\n",
              "        }\n",
              "      </script>\n",
              "    </div>\n",
              "  </div>\n",
              "  "
            ]
          },
          "metadata": {},
          "execution_count": 3
        }
      ],
      "source": [
        "#read in the file\n",
        "salary = pd.read_csv(\"https://github.com/Awu-Lin/Data-for-Benson-s-group-/blob/main/data.csv?raw=true\")\n",
        "salary.head()"
      ]
    },
    {
      "cell_type": "markdown",
      "source": [
        "There are a very large number of variables in the database, but some of them, such as Via or job codes, are not relevant to our analysis. So we will remove these columns that are not relevant to our analysis."
      ],
      "metadata": {
        "id": "e92j0xAO8wiA"
      }
    },
    {
      "cell_type": "code",
      "source": [
        "#Retain variables that are necessary for the analysis\n",
        "columns_to_keep = ['company_name', 'location', 'date_time', 'salary_avg', 'salary_min', 'salary_max', 'description_tokens','extensions']\n",
        "salary = salary.filter(columns_to_keep)\n",
        "salary.head()"
      ],
      "metadata": {
        "colab": {
          "base_uri": "https://localhost:8080/",
          "height": 206
        },
        "id": "dl59U7dI6fvm",
        "outputId": "05bbf503-133e-42ef-c971-86d2ac6085ab"
      },
      "execution_count": null,
      "outputs": [
        {
          "output_type": "execute_result",
          "data": {
            "text/plain": [
              "                company_name            location                   date_time  \\\n",
              "0                     Upwork           Anywhere   2023-05-21 07:00:30.990626   \n",
              "1  Acadia Technologies, Inc.       United States  2022-12-29 00:19:20.229733   \n",
              "2          rays technologies       United States  2022-11-09 04:00:16.330489   \n",
              "3            Orbital Insight    United States     2023-05-10 03:00:55.399145   \n",
              "4               EDWARD JONES         Chamois, MO  2022-11-22 04:00:11.811065   \n",
              "\n",
              "   salary_avg  salary_min  salary_max  \\\n",
              "0        56.0        37.0        75.0   \n",
              "1     70000.0     60000.0     80000.0   \n",
              "2     95000.0     90000.0    100000.0   \n",
              "3    157500.0    129000.0    186000.0   \n",
              "4    103781.0     76798.0    130764.0   \n",
              "\n",
              "                                  description_tokens  \\\n",
              "0                                   ['sql', 'excel']   \n",
              "1                                    ['ssis', 'sql']   \n",
              "2      ['hadoop', 'aws', 'postgresql', 'sharepoint']   \n",
              "3                              ['python', 'pytorch']   \n",
              "4  ['python', 'sas', 'r', 'snowflake', 'sql', 'sp...   \n",
              "\n",
              "                                          extensions  \n",
              "0  ['10 hours ago', '37–75 an hour', 'Work from h...  \n",
              "1  ['1 hour ago', '60K–80K a year', 'Full-time', ...  \n",
              "2  ['1 hour ago', '90K–100K a year', 'Full-time',...  \n",
              "3    ['1 hour ago', '129K–186K a year', 'Full-time']  \n",
              "4  ['1 hour ago', '76,798–130,764 a year', 'Full-...  "
            ],
            "text/html": [
              "\n",
              "  <div id=\"df-810ef3c5-b663-499c-ae8a-164385e87a76\">\n",
              "    <div class=\"colab-df-container\">\n",
              "      <div>\n",
              "<style scoped>\n",
              "    .dataframe tbody tr th:only-of-type {\n",
              "        vertical-align: middle;\n",
              "    }\n",
              "\n",
              "    .dataframe tbody tr th {\n",
              "        vertical-align: top;\n",
              "    }\n",
              "\n",
              "    .dataframe thead th {\n",
              "        text-align: right;\n",
              "    }\n",
              "</style>\n",
              "<table border=\"1\" class=\"dataframe\">\n",
              "  <thead>\n",
              "    <tr style=\"text-align: right;\">\n",
              "      <th></th>\n",
              "      <th>company_name</th>\n",
              "      <th>location</th>\n",
              "      <th>date_time</th>\n",
              "      <th>salary_avg</th>\n",
              "      <th>salary_min</th>\n",
              "      <th>salary_max</th>\n",
              "      <th>description_tokens</th>\n",
              "      <th>extensions</th>\n",
              "    </tr>\n",
              "  </thead>\n",
              "  <tbody>\n",
              "    <tr>\n",
              "      <th>0</th>\n",
              "      <td>Upwork</td>\n",
              "      <td>Anywhere</td>\n",
              "      <td>2023-05-21 07:00:30.990626</td>\n",
              "      <td>56.0</td>\n",
              "      <td>37.0</td>\n",
              "      <td>75.0</td>\n",
              "      <td>['sql', 'excel']</td>\n",
              "      <td>['10 hours ago', '37–75 an hour', 'Work from h...</td>\n",
              "    </tr>\n",
              "    <tr>\n",
              "      <th>1</th>\n",
              "      <td>Acadia Technologies, Inc.</td>\n",
              "      <td>United States</td>\n",
              "      <td>2022-12-29 00:19:20.229733</td>\n",
              "      <td>70000.0</td>\n",
              "      <td>60000.0</td>\n",
              "      <td>80000.0</td>\n",
              "      <td>['ssis', 'sql']</td>\n",
              "      <td>['1 hour ago', '60K–80K a year', 'Full-time', ...</td>\n",
              "    </tr>\n",
              "    <tr>\n",
              "      <th>2</th>\n",
              "      <td>rays technologies</td>\n",
              "      <td>United States</td>\n",
              "      <td>2022-11-09 04:00:16.330489</td>\n",
              "      <td>95000.0</td>\n",
              "      <td>90000.0</td>\n",
              "      <td>100000.0</td>\n",
              "      <td>['hadoop', 'aws', 'postgresql', 'sharepoint']</td>\n",
              "      <td>['1 hour ago', '90K–100K a year', 'Full-time',...</td>\n",
              "    </tr>\n",
              "    <tr>\n",
              "      <th>3</th>\n",
              "      <td>Orbital Insight</td>\n",
              "      <td>United States</td>\n",
              "      <td>2023-05-10 03:00:55.399145</td>\n",
              "      <td>157500.0</td>\n",
              "      <td>129000.0</td>\n",
              "      <td>186000.0</td>\n",
              "      <td>['python', 'pytorch']</td>\n",
              "      <td>['1 hour ago', '129K–186K a year', 'Full-time']</td>\n",
              "    </tr>\n",
              "    <tr>\n",
              "      <th>4</th>\n",
              "      <td>EDWARD JONES</td>\n",
              "      <td>Chamois, MO</td>\n",
              "      <td>2022-11-22 04:00:11.811065</td>\n",
              "      <td>103781.0</td>\n",
              "      <td>76798.0</td>\n",
              "      <td>130764.0</td>\n",
              "      <td>['python', 'sas', 'r', 'snowflake', 'sql', 'sp...</td>\n",
              "      <td>['1 hour ago', '76,798–130,764 a year', 'Full-...</td>\n",
              "    </tr>\n",
              "  </tbody>\n",
              "</table>\n",
              "</div>\n",
              "      <button class=\"colab-df-convert\" onclick=\"convertToInteractive('df-810ef3c5-b663-499c-ae8a-164385e87a76')\"\n",
              "              title=\"Convert this dataframe to an interactive table.\"\n",
              "              style=\"display:none;\">\n",
              "        \n",
              "  <svg xmlns=\"http://www.w3.org/2000/svg\" height=\"24px\"viewBox=\"0 0 24 24\"\n",
              "       width=\"24px\">\n",
              "    <path d=\"M0 0h24v24H0V0z\" fill=\"none\"/>\n",
              "    <path d=\"M18.56 5.44l.94 2.06.94-2.06 2.06-.94-2.06-.94-.94-2.06-.94 2.06-2.06.94zm-11 1L8.5 8.5l.94-2.06 2.06-.94-2.06-.94L8.5 2.5l-.94 2.06-2.06.94zm10 10l.94 2.06.94-2.06 2.06-.94-2.06-.94-.94-2.06-.94 2.06-2.06.94z\"/><path d=\"M17.41 7.96l-1.37-1.37c-.4-.4-.92-.59-1.43-.59-.52 0-1.04.2-1.43.59L10.3 9.45l-7.72 7.72c-.78.78-.78 2.05 0 2.83L4 21.41c.39.39.9.59 1.41.59.51 0 1.02-.2 1.41-.59l7.78-7.78 2.81-2.81c.8-.78.8-2.07 0-2.86zM5.41 20L4 18.59l7.72-7.72 1.47 1.35L5.41 20z\"/>\n",
              "  </svg>\n",
              "      </button>\n",
              "      \n",
              "  <style>\n",
              "    .colab-df-container {\n",
              "      display:flex;\n",
              "      flex-wrap:wrap;\n",
              "      gap: 12px;\n",
              "    }\n",
              "\n",
              "    .colab-df-convert {\n",
              "      background-color: #E8F0FE;\n",
              "      border: none;\n",
              "      border-radius: 50%;\n",
              "      cursor: pointer;\n",
              "      display: none;\n",
              "      fill: #1967D2;\n",
              "      height: 32px;\n",
              "      padding: 0 0 0 0;\n",
              "      width: 32px;\n",
              "    }\n",
              "\n",
              "    .colab-df-convert:hover {\n",
              "      background-color: #E2EBFA;\n",
              "      box-shadow: 0px 1px 2px rgba(60, 64, 67, 0.3), 0px 1px 3px 1px rgba(60, 64, 67, 0.15);\n",
              "      fill: #174EA6;\n",
              "    }\n",
              "\n",
              "    [theme=dark] .colab-df-convert {\n",
              "      background-color: #3B4455;\n",
              "      fill: #D2E3FC;\n",
              "    }\n",
              "\n",
              "    [theme=dark] .colab-df-convert:hover {\n",
              "      background-color: #434B5C;\n",
              "      box-shadow: 0px 1px 3px 1px rgba(0, 0, 0, 0.15);\n",
              "      filter: drop-shadow(0px 1px 2px rgba(0, 0, 0, 0.3));\n",
              "      fill: #FFFFFF;\n",
              "    }\n",
              "  </style>\n",
              "\n",
              "      <script>\n",
              "        const buttonEl =\n",
              "          document.querySelector('#df-810ef3c5-b663-499c-ae8a-164385e87a76 button.colab-df-convert');\n",
              "        buttonEl.style.display =\n",
              "          google.colab.kernel.accessAllowed ? 'block' : 'none';\n",
              "\n",
              "        async function convertToInteractive(key) {\n",
              "          const element = document.querySelector('#df-810ef3c5-b663-499c-ae8a-164385e87a76');\n",
              "          const dataTable =\n",
              "            await google.colab.kernel.invokeFunction('convertToInteractive',\n",
              "                                                     [key], {});\n",
              "          if (!dataTable) return;\n",
              "\n",
              "          const docLinkHtml = 'Like what you see? Visit the ' +\n",
              "            '<a target=\"_blank\" href=https://colab.research.google.com/notebooks/data_table.ipynb>data table notebook</a>'\n",
              "            + ' to learn more about interactive tables.';\n",
              "          element.innerHTML = '';\n",
              "          dataTable['output_type'] = 'display_data';\n",
              "          await google.colab.output.renderOutput(dataTable, element);\n",
              "          const docLink = document.createElement('div');\n",
              "          docLink.innerHTML = docLinkHtml;\n",
              "          element.appendChild(docLink);\n",
              "        }\n",
              "      </script>\n",
              "    </div>\n",
              "  </div>\n",
              "  "
            ]
          },
          "metadata": {},
          "execution_count": 4
        }
      ]
    },
    {
      "cell_type": "markdown",
      "source": [
        "Many of the characteristics in the dataset are concentrated in description_tokens and extensions, and we need to filter out the variables in them to continue our analysis, and we have successfully selected and processed the information in extensions and separated it into whether full-time work is required, whether health insurance is provided, whether dental insurance is provided, whether work from home is available, and whether paid leave is available."
      ],
      "metadata": {
        "id": "ZkeSMYgQCP7z"
      }
    },
    {
      "cell_type": "code",
      "source": [
        "extension_categories = salary['extensions'].unique()\n",
        "print(extension_categories)"
      ],
      "metadata": {
        "colab": {
          "base_uri": "https://localhost:8080/"
        },
        "id": "ydkD2akSAWQi",
        "outputId": "bc101a9e-9e1f-4e2d-ccda-39f84a07704a"
      },
      "execution_count": null,
      "outputs": [
        {
          "output_type": "stream",
          "name": "stdout",
          "text": [
            "[\"['10 hours ago', '37–75 an hour', 'Work from home', 'Contractor', 'No degree mentioned']\"\n",
            " \"['1 hour ago', '60K–80K a year', 'Full-time', 'No degree mentioned']\"\n",
            " \"['1 hour ago', '90K–100K a year', 'Full-time', 'Health insurance', 'Dental insurance', 'Paid time off']\"\n",
            " ...\n",
            " \"['17 hours ago', '100,815–110,815 a year', 'Full-time', 'Health insurance', 'Dental insurance']\"\n",
            " \"['20 hours ago', '90,628–154,313 a year', 'Full-time', 'Health insurance']\"\n",
            " \"['24 hours ago', '105,850–158,780 a year', 'Full-time']\"]\n"
          ]
        }
      ]
    },
    {
      "cell_type": "code",
      "source": [
        "# Retrieve 'Full-time' and create the 'Full-Time require' column\n",
        "salary['Full-Time require'] = salary['extensions'].apply(lambda x: 1 if 'Full-time' in x else 0)\n",
        "\n",
        "# Retrieve 'Health insurance' and create the 'Health insurance' column\n",
        "salary['Health insurance'] = salary['extensions'].apply(lambda x: 1 if 'Health insurance' in x else 0)\n",
        "\n",
        "# Retrieve 'Dental insurance' and create the 'Dental insurance' column\n",
        "salary['Dental insurance'] = salary['extensions'].apply(lambda x: 1 if 'Dental insurance' in x else 0)\n",
        "\n",
        "# Retrieve 'Paid time off' and create the 'Paid time off' column\n",
        "salary['Paid time off'] = salary['extensions'].apply(lambda x: 1 if 'Paid time off' in x else 0)\n",
        "\n",
        "# Retrieve 'Work from home' and create the 'Work from home' column\n",
        "salary['Work from home'] = salary['extensions'].apply(lambda x: 1 if 'Work from home' in x else 0)\n",
        "\n",
        "# Drop the \"extensions\" column\n",
        "salary = salary.drop('extensions', axis=1)\n",
        "\n",
        "# print the result to see\n",
        "salary.head()"
      ],
      "metadata": {
        "colab": {
          "base_uri": "https://localhost:8080/",
          "height": 354
        },
        "id": "k0aOOH6CGqow",
        "outputId": "3336577b-9cc8-44dc-dd19-029a75d9d24d"
      },
      "execution_count": null,
      "outputs": [
        {
          "output_type": "execute_result",
          "data": {
            "text/plain": [
              "                company_name            location                   date_time  \\\n",
              "0                     Upwork           Anywhere   2023-05-21 07:00:30.990626   \n",
              "1  Acadia Technologies, Inc.       United States  2022-12-29 00:19:20.229733   \n",
              "2          rays technologies       United States  2022-11-09 04:00:16.330489   \n",
              "3            Orbital Insight    United States     2023-05-10 03:00:55.399145   \n",
              "4               EDWARD JONES         Chamois, MO  2022-11-22 04:00:11.811065   \n",
              "\n",
              "   salary_avg  salary_min  salary_max  \\\n",
              "0        56.0        37.0        75.0   \n",
              "1     70000.0     60000.0     80000.0   \n",
              "2     95000.0     90000.0    100000.0   \n",
              "3    157500.0    129000.0    186000.0   \n",
              "4    103781.0     76798.0    130764.0   \n",
              "\n",
              "                                  description_tokens  Full-Time require  \\\n",
              "0                                   ['sql', 'excel']                  0   \n",
              "1                                    ['ssis', 'sql']                  1   \n",
              "2      ['hadoop', 'aws', 'postgresql', 'sharepoint']                  1   \n",
              "3                              ['python', 'pytorch']                  1   \n",
              "4  ['python', 'sas', 'r', 'snowflake', 'sql', 'sp...                  1   \n",
              "\n",
              "   Health insurance  Dental insurance  Paid time off  Work from home  \n",
              "0                 0                 0              0               1  \n",
              "1                 0                 0              0               0  \n",
              "2                 1                 1              1               0  \n",
              "3                 0                 0              0               0  \n",
              "4                 1                 0              0               0  "
            ],
            "text/html": [
              "\n",
              "  <div id=\"df-b94751e1-6d82-4f74-8b04-286d470151f7\">\n",
              "    <div class=\"colab-df-container\">\n",
              "      <div>\n",
              "<style scoped>\n",
              "    .dataframe tbody tr th:only-of-type {\n",
              "        vertical-align: middle;\n",
              "    }\n",
              "\n",
              "    .dataframe tbody tr th {\n",
              "        vertical-align: top;\n",
              "    }\n",
              "\n",
              "    .dataframe thead th {\n",
              "        text-align: right;\n",
              "    }\n",
              "</style>\n",
              "<table border=\"1\" class=\"dataframe\">\n",
              "  <thead>\n",
              "    <tr style=\"text-align: right;\">\n",
              "      <th></th>\n",
              "      <th>company_name</th>\n",
              "      <th>location</th>\n",
              "      <th>date_time</th>\n",
              "      <th>salary_avg</th>\n",
              "      <th>salary_min</th>\n",
              "      <th>salary_max</th>\n",
              "      <th>description_tokens</th>\n",
              "      <th>Full-Time require</th>\n",
              "      <th>Health insurance</th>\n",
              "      <th>Dental insurance</th>\n",
              "      <th>Paid time off</th>\n",
              "      <th>Work from home</th>\n",
              "    </tr>\n",
              "  </thead>\n",
              "  <tbody>\n",
              "    <tr>\n",
              "      <th>0</th>\n",
              "      <td>Upwork</td>\n",
              "      <td>Anywhere</td>\n",
              "      <td>2023-05-21 07:00:30.990626</td>\n",
              "      <td>56.0</td>\n",
              "      <td>37.0</td>\n",
              "      <td>75.0</td>\n",
              "      <td>['sql', 'excel']</td>\n",
              "      <td>0</td>\n",
              "      <td>0</td>\n",
              "      <td>0</td>\n",
              "      <td>0</td>\n",
              "      <td>1</td>\n",
              "    </tr>\n",
              "    <tr>\n",
              "      <th>1</th>\n",
              "      <td>Acadia Technologies, Inc.</td>\n",
              "      <td>United States</td>\n",
              "      <td>2022-12-29 00:19:20.229733</td>\n",
              "      <td>70000.0</td>\n",
              "      <td>60000.0</td>\n",
              "      <td>80000.0</td>\n",
              "      <td>['ssis', 'sql']</td>\n",
              "      <td>1</td>\n",
              "      <td>0</td>\n",
              "      <td>0</td>\n",
              "      <td>0</td>\n",
              "      <td>0</td>\n",
              "    </tr>\n",
              "    <tr>\n",
              "      <th>2</th>\n",
              "      <td>rays technologies</td>\n",
              "      <td>United States</td>\n",
              "      <td>2022-11-09 04:00:16.330489</td>\n",
              "      <td>95000.0</td>\n",
              "      <td>90000.0</td>\n",
              "      <td>100000.0</td>\n",
              "      <td>['hadoop', 'aws', 'postgresql', 'sharepoint']</td>\n",
              "      <td>1</td>\n",
              "      <td>1</td>\n",
              "      <td>1</td>\n",
              "      <td>1</td>\n",
              "      <td>0</td>\n",
              "    </tr>\n",
              "    <tr>\n",
              "      <th>3</th>\n",
              "      <td>Orbital Insight</td>\n",
              "      <td>United States</td>\n",
              "      <td>2023-05-10 03:00:55.399145</td>\n",
              "      <td>157500.0</td>\n",
              "      <td>129000.0</td>\n",
              "      <td>186000.0</td>\n",
              "      <td>['python', 'pytorch']</td>\n",
              "      <td>1</td>\n",
              "      <td>0</td>\n",
              "      <td>0</td>\n",
              "      <td>0</td>\n",
              "      <td>0</td>\n",
              "    </tr>\n",
              "    <tr>\n",
              "      <th>4</th>\n",
              "      <td>EDWARD JONES</td>\n",
              "      <td>Chamois, MO</td>\n",
              "      <td>2022-11-22 04:00:11.811065</td>\n",
              "      <td>103781.0</td>\n",
              "      <td>76798.0</td>\n",
              "      <td>130764.0</td>\n",
              "      <td>['python', 'sas', 'r', 'snowflake', 'sql', 'sp...</td>\n",
              "      <td>1</td>\n",
              "      <td>1</td>\n",
              "      <td>0</td>\n",
              "      <td>0</td>\n",
              "      <td>0</td>\n",
              "    </tr>\n",
              "  </tbody>\n",
              "</table>\n",
              "</div>\n",
              "      <button class=\"colab-df-convert\" onclick=\"convertToInteractive('df-b94751e1-6d82-4f74-8b04-286d470151f7')\"\n",
              "              title=\"Convert this dataframe to an interactive table.\"\n",
              "              style=\"display:none;\">\n",
              "        \n",
              "  <svg xmlns=\"http://www.w3.org/2000/svg\" height=\"24px\"viewBox=\"0 0 24 24\"\n",
              "       width=\"24px\">\n",
              "    <path d=\"M0 0h24v24H0V0z\" fill=\"none\"/>\n",
              "    <path d=\"M18.56 5.44l.94 2.06.94-2.06 2.06-.94-2.06-.94-.94-2.06-.94 2.06-2.06.94zm-11 1L8.5 8.5l.94-2.06 2.06-.94-2.06-.94L8.5 2.5l-.94 2.06-2.06.94zm10 10l.94 2.06.94-2.06 2.06-.94-2.06-.94-.94-2.06-.94 2.06-2.06.94z\"/><path d=\"M17.41 7.96l-1.37-1.37c-.4-.4-.92-.59-1.43-.59-.52 0-1.04.2-1.43.59L10.3 9.45l-7.72 7.72c-.78.78-.78 2.05 0 2.83L4 21.41c.39.39.9.59 1.41.59.51 0 1.02-.2 1.41-.59l7.78-7.78 2.81-2.81c.8-.78.8-2.07 0-2.86zM5.41 20L4 18.59l7.72-7.72 1.47 1.35L5.41 20z\"/>\n",
              "  </svg>\n",
              "      </button>\n",
              "      \n",
              "  <style>\n",
              "    .colab-df-container {\n",
              "      display:flex;\n",
              "      flex-wrap:wrap;\n",
              "      gap: 12px;\n",
              "    }\n",
              "\n",
              "    .colab-df-convert {\n",
              "      background-color: #E8F0FE;\n",
              "      border: none;\n",
              "      border-radius: 50%;\n",
              "      cursor: pointer;\n",
              "      display: none;\n",
              "      fill: #1967D2;\n",
              "      height: 32px;\n",
              "      padding: 0 0 0 0;\n",
              "      width: 32px;\n",
              "    }\n",
              "\n",
              "    .colab-df-convert:hover {\n",
              "      background-color: #E2EBFA;\n",
              "      box-shadow: 0px 1px 2px rgba(60, 64, 67, 0.3), 0px 1px 3px 1px rgba(60, 64, 67, 0.15);\n",
              "      fill: #174EA6;\n",
              "    }\n",
              "\n",
              "    [theme=dark] .colab-df-convert {\n",
              "      background-color: #3B4455;\n",
              "      fill: #D2E3FC;\n",
              "    }\n",
              "\n",
              "    [theme=dark] .colab-df-convert:hover {\n",
              "      background-color: #434B5C;\n",
              "      box-shadow: 0px 1px 3px 1px rgba(0, 0, 0, 0.15);\n",
              "      filter: drop-shadow(0px 1px 2px rgba(0, 0, 0, 0.3));\n",
              "      fill: #FFFFFF;\n",
              "    }\n",
              "  </style>\n",
              "\n",
              "      <script>\n",
              "        const buttonEl =\n",
              "          document.querySelector('#df-b94751e1-6d82-4f74-8b04-286d470151f7 button.colab-df-convert');\n",
              "        buttonEl.style.display =\n",
              "          google.colab.kernel.accessAllowed ? 'block' : 'none';\n",
              "\n",
              "        async function convertToInteractive(key) {\n",
              "          const element = document.querySelector('#df-b94751e1-6d82-4f74-8b04-286d470151f7');\n",
              "          const dataTable =\n",
              "            await google.colab.kernel.invokeFunction('convertToInteractive',\n",
              "                                                     [key], {});\n",
              "          if (!dataTable) return;\n",
              "\n",
              "          const docLinkHtml = 'Like what you see? Visit the ' +\n",
              "            '<a target=\"_blank\" href=https://colab.research.google.com/notebooks/data_table.ipynb>data table notebook</a>'\n",
              "            + ' to learn more about interactive tables.';\n",
              "          element.innerHTML = '';\n",
              "          dataTable['output_type'] = 'display_data';\n",
              "          await google.colab.output.renderOutput(dataTable, element);\n",
              "          const docLink = document.createElement('div');\n",
              "          docLink.innerHTML = docLinkHtml;\n",
              "          element.appendChild(docLink);\n",
              "        }\n",
              "      </script>\n",
              "    </div>\n",
              "  </div>\n",
              "  "
            ]
          },
          "metadata": {},
          "execution_count": 6
        }
      ]
    },
    {
      "cell_type": "markdown",
      "source": [
        "we will explore the impact of these factors on salary, and next we will analyze the information contained in description_tokens.\n",
        "\n",
        "However, even if we use semantic integration to reduce the number of keywords, it is still too much. Therefore, we chose five common programming languages, mysql, excel, python, r, c, java, aws and spark to perform our analysis. We will explore the impact of these five programming languages on wages."
      ],
      "metadata": {
        "id": "Uig8Y__jDEgl"
      }
    },
    {
      "cell_type": "code",
      "source": [
        "# Get the set of unique words\n",
        "unique_words = set(' '.join(salary['description_tokens']).split())\n",
        "\n",
        "# Create a stemmer\n",
        "stemmer = PorterStemmer()\n",
        "\n",
        "# Consolidate words\n",
        "consolidated_words = set()\n",
        "for word in unique_words:\n",
        "    # Perform stemming on each word\n",
        "    stemmed_word = stemmer.stem(word)\n",
        "    consolidated_words.add(stemmed_word)\n",
        "\n",
        "# Count the number of consolidated words\n",
        "num_consolidated_words = len(consolidated_words)\n",
        "\n",
        "# Print the number of consolidated words, it just too many!\n",
        "print(\"Number of consolidated words:\", num_consolidated_words)"
      ],
      "metadata": {
        "colab": {
          "base_uri": "https://localhost:8080/"
        },
        "id": "fYdB6Z9R9zwJ",
        "outputId": "50d82da6-7910-424c-e301-3778769df2eb"
      },
      "execution_count": null,
      "outputs": [
        {
          "output_type": "stream",
          "name": "stdout",
          "text": [
            "Number of consolidated words: 260\n"
          ]
        }
      ]
    },
    {
      "cell_type": "markdown",
      "source": [
        "Find the occurring skills we selectd"
      ],
      "metadata": {
        "id": "knA-9V7ZGBHl"
      }
    },
    {
      "cell_type": "code",
      "source": [
        "features = [\"mysql\", \"excel\", \"python\", \"r\", \"c\", \"java\",\"aws\",\"spark\"]\n",
        "\n",
        "# Create columns for each feature\n",
        "for feature in features:\n",
        "    if feature != 'C++':\n",
        "        salary[feature] = salary['description_tokens'].apply(lambda x: 1 if feature in x else 0)\n",
        "salary = salary.drop('description_tokens', axis=1)\n",
        "# Print the modified DataFrame\n",
        "salary.head()"
      ],
      "metadata": {
        "colab": {
          "base_uri": "https://localhost:8080/",
          "height": 354
        },
        "id": "vCOtWtgwGupV",
        "outputId": "2603a336-a899-4b1b-f7e2-480cba71719a"
      },
      "execution_count": null,
      "outputs": [
        {
          "output_type": "execute_result",
          "data": {
            "text/plain": [
              "                company_name            location                   date_time  \\\n",
              "0                     Upwork           Anywhere   2023-05-21 07:00:30.990626   \n",
              "1  Acadia Technologies, Inc.       United States  2022-12-29 00:19:20.229733   \n",
              "2          rays technologies       United States  2022-11-09 04:00:16.330489   \n",
              "3            Orbital Insight    United States     2023-05-10 03:00:55.399145   \n",
              "4               EDWARD JONES         Chamois, MO  2022-11-22 04:00:11.811065   \n",
              "\n",
              "   salary_avg  salary_min  salary_max  Full-Time require  Health insurance  \\\n",
              "0        56.0        37.0        75.0                  0                 0   \n",
              "1     70000.0     60000.0     80000.0                  1                 0   \n",
              "2     95000.0     90000.0    100000.0                  1                 1   \n",
              "3    157500.0    129000.0    186000.0                  1                 0   \n",
              "4    103781.0     76798.0    130764.0                  1                 1   \n",
              "\n",
              "   Dental insurance  Paid time off  Work from home  mysql  excel  python  r  \\\n",
              "0                 0              0               1      0      1       0  0   \n",
              "1                 0              0               0      0      0       0  0   \n",
              "2                 1              1               0      0      0       0  1   \n",
              "3                 0              0               0      0      0       1  1   \n",
              "4                 0              0               0      0      1       1  1   \n",
              "\n",
              "   c  java  aws  spark  \n",
              "0  1     0    0      0  \n",
              "1  0     0    0      0  \n",
              "2  0     0    1      0  \n",
              "3  1     0    0      0  \n",
              "4  1     0    0      0  "
            ],
            "text/html": [
              "\n",
              "  <div id=\"df-b2b6a29f-affe-44e7-9a70-35c09c6016ce\">\n",
              "    <div class=\"colab-df-container\">\n",
              "      <div>\n",
              "<style scoped>\n",
              "    .dataframe tbody tr th:only-of-type {\n",
              "        vertical-align: middle;\n",
              "    }\n",
              "\n",
              "    .dataframe tbody tr th {\n",
              "        vertical-align: top;\n",
              "    }\n",
              "\n",
              "    .dataframe thead th {\n",
              "        text-align: right;\n",
              "    }\n",
              "</style>\n",
              "<table border=\"1\" class=\"dataframe\">\n",
              "  <thead>\n",
              "    <tr style=\"text-align: right;\">\n",
              "      <th></th>\n",
              "      <th>company_name</th>\n",
              "      <th>location</th>\n",
              "      <th>date_time</th>\n",
              "      <th>salary_avg</th>\n",
              "      <th>salary_min</th>\n",
              "      <th>salary_max</th>\n",
              "      <th>Full-Time require</th>\n",
              "      <th>Health insurance</th>\n",
              "      <th>Dental insurance</th>\n",
              "      <th>Paid time off</th>\n",
              "      <th>Work from home</th>\n",
              "      <th>mysql</th>\n",
              "      <th>excel</th>\n",
              "      <th>python</th>\n",
              "      <th>r</th>\n",
              "      <th>c</th>\n",
              "      <th>java</th>\n",
              "      <th>aws</th>\n",
              "      <th>spark</th>\n",
              "    </tr>\n",
              "  </thead>\n",
              "  <tbody>\n",
              "    <tr>\n",
              "      <th>0</th>\n",
              "      <td>Upwork</td>\n",
              "      <td>Anywhere</td>\n",
              "      <td>2023-05-21 07:00:30.990626</td>\n",
              "      <td>56.0</td>\n",
              "      <td>37.0</td>\n",
              "      <td>75.0</td>\n",
              "      <td>0</td>\n",
              "      <td>0</td>\n",
              "      <td>0</td>\n",
              "      <td>0</td>\n",
              "      <td>1</td>\n",
              "      <td>0</td>\n",
              "      <td>1</td>\n",
              "      <td>0</td>\n",
              "      <td>0</td>\n",
              "      <td>1</td>\n",
              "      <td>0</td>\n",
              "      <td>0</td>\n",
              "      <td>0</td>\n",
              "    </tr>\n",
              "    <tr>\n",
              "      <th>1</th>\n",
              "      <td>Acadia Technologies, Inc.</td>\n",
              "      <td>United States</td>\n",
              "      <td>2022-12-29 00:19:20.229733</td>\n",
              "      <td>70000.0</td>\n",
              "      <td>60000.0</td>\n",
              "      <td>80000.0</td>\n",
              "      <td>1</td>\n",
              "      <td>0</td>\n",
              "      <td>0</td>\n",
              "      <td>0</td>\n",
              "      <td>0</td>\n",
              "      <td>0</td>\n",
              "      <td>0</td>\n",
              "      <td>0</td>\n",
              "      <td>0</td>\n",
              "      <td>0</td>\n",
              "      <td>0</td>\n",
              "      <td>0</td>\n",
              "      <td>0</td>\n",
              "    </tr>\n",
              "    <tr>\n",
              "      <th>2</th>\n",
              "      <td>rays technologies</td>\n",
              "      <td>United States</td>\n",
              "      <td>2022-11-09 04:00:16.330489</td>\n",
              "      <td>95000.0</td>\n",
              "      <td>90000.0</td>\n",
              "      <td>100000.0</td>\n",
              "      <td>1</td>\n",
              "      <td>1</td>\n",
              "      <td>1</td>\n",
              "      <td>1</td>\n",
              "      <td>0</td>\n",
              "      <td>0</td>\n",
              "      <td>0</td>\n",
              "      <td>0</td>\n",
              "      <td>1</td>\n",
              "      <td>0</td>\n",
              "      <td>0</td>\n",
              "      <td>1</td>\n",
              "      <td>0</td>\n",
              "    </tr>\n",
              "    <tr>\n",
              "      <th>3</th>\n",
              "      <td>Orbital Insight</td>\n",
              "      <td>United States</td>\n",
              "      <td>2023-05-10 03:00:55.399145</td>\n",
              "      <td>157500.0</td>\n",
              "      <td>129000.0</td>\n",
              "      <td>186000.0</td>\n",
              "      <td>1</td>\n",
              "      <td>0</td>\n",
              "      <td>0</td>\n",
              "      <td>0</td>\n",
              "      <td>0</td>\n",
              "      <td>0</td>\n",
              "      <td>0</td>\n",
              "      <td>1</td>\n",
              "      <td>1</td>\n",
              "      <td>1</td>\n",
              "      <td>0</td>\n",
              "      <td>0</td>\n",
              "      <td>0</td>\n",
              "    </tr>\n",
              "    <tr>\n",
              "      <th>4</th>\n",
              "      <td>EDWARD JONES</td>\n",
              "      <td>Chamois, MO</td>\n",
              "      <td>2022-11-22 04:00:11.811065</td>\n",
              "      <td>103781.0</td>\n",
              "      <td>76798.0</td>\n",
              "      <td>130764.0</td>\n",
              "      <td>1</td>\n",
              "      <td>1</td>\n",
              "      <td>0</td>\n",
              "      <td>0</td>\n",
              "      <td>0</td>\n",
              "      <td>0</td>\n",
              "      <td>1</td>\n",
              "      <td>1</td>\n",
              "      <td>1</td>\n",
              "      <td>1</td>\n",
              "      <td>0</td>\n",
              "      <td>0</td>\n",
              "      <td>0</td>\n",
              "    </tr>\n",
              "  </tbody>\n",
              "</table>\n",
              "</div>\n",
              "      <button class=\"colab-df-convert\" onclick=\"convertToInteractive('df-b2b6a29f-affe-44e7-9a70-35c09c6016ce')\"\n",
              "              title=\"Convert this dataframe to an interactive table.\"\n",
              "              style=\"display:none;\">\n",
              "        \n",
              "  <svg xmlns=\"http://www.w3.org/2000/svg\" height=\"24px\"viewBox=\"0 0 24 24\"\n",
              "       width=\"24px\">\n",
              "    <path d=\"M0 0h24v24H0V0z\" fill=\"none\"/>\n",
              "    <path d=\"M18.56 5.44l.94 2.06.94-2.06 2.06-.94-2.06-.94-.94-2.06-.94 2.06-2.06.94zm-11 1L8.5 8.5l.94-2.06 2.06-.94-2.06-.94L8.5 2.5l-.94 2.06-2.06.94zm10 10l.94 2.06.94-2.06 2.06-.94-2.06-.94-.94-2.06-.94 2.06-2.06.94z\"/><path d=\"M17.41 7.96l-1.37-1.37c-.4-.4-.92-.59-1.43-.59-.52 0-1.04.2-1.43.59L10.3 9.45l-7.72 7.72c-.78.78-.78 2.05 0 2.83L4 21.41c.39.39.9.59 1.41.59.51 0 1.02-.2 1.41-.59l7.78-7.78 2.81-2.81c.8-.78.8-2.07 0-2.86zM5.41 20L4 18.59l7.72-7.72 1.47 1.35L5.41 20z\"/>\n",
              "  </svg>\n",
              "      </button>\n",
              "      \n",
              "  <style>\n",
              "    .colab-df-container {\n",
              "      display:flex;\n",
              "      flex-wrap:wrap;\n",
              "      gap: 12px;\n",
              "    }\n",
              "\n",
              "    .colab-df-convert {\n",
              "      background-color: #E8F0FE;\n",
              "      border: none;\n",
              "      border-radius: 50%;\n",
              "      cursor: pointer;\n",
              "      display: none;\n",
              "      fill: #1967D2;\n",
              "      height: 32px;\n",
              "      padding: 0 0 0 0;\n",
              "      width: 32px;\n",
              "    }\n",
              "\n",
              "    .colab-df-convert:hover {\n",
              "      background-color: #E2EBFA;\n",
              "      box-shadow: 0px 1px 2px rgba(60, 64, 67, 0.3), 0px 1px 3px 1px rgba(60, 64, 67, 0.15);\n",
              "      fill: #174EA6;\n",
              "    }\n",
              "\n",
              "    [theme=dark] .colab-df-convert {\n",
              "      background-color: #3B4455;\n",
              "      fill: #D2E3FC;\n",
              "    }\n",
              "\n",
              "    [theme=dark] .colab-df-convert:hover {\n",
              "      background-color: #434B5C;\n",
              "      box-shadow: 0px 1px 3px 1px rgba(0, 0, 0, 0.15);\n",
              "      filter: drop-shadow(0px 1px 2px rgba(0, 0, 0, 0.3));\n",
              "      fill: #FFFFFF;\n",
              "    }\n",
              "  </style>\n",
              "\n",
              "      <script>\n",
              "        const buttonEl =\n",
              "          document.querySelector('#df-b2b6a29f-affe-44e7-9a70-35c09c6016ce button.colab-df-convert');\n",
              "        buttonEl.style.display =\n",
              "          google.colab.kernel.accessAllowed ? 'block' : 'none';\n",
              "\n",
              "        async function convertToInteractive(key) {\n",
              "          const element = document.querySelector('#df-b2b6a29f-affe-44e7-9a70-35c09c6016ce');\n",
              "          const dataTable =\n",
              "            await google.colab.kernel.invokeFunction('convertToInteractive',\n",
              "                                                     [key], {});\n",
              "          if (!dataTable) return;\n",
              "\n",
              "          const docLinkHtml = 'Like what you see? Visit the ' +\n",
              "            '<a target=\"_blank\" href=https://colab.research.google.com/notebooks/data_table.ipynb>data table notebook</a>'\n",
              "            + ' to learn more about interactive tables.';\n",
              "          element.innerHTML = '';\n",
              "          dataTable['output_type'] = 'display_data';\n",
              "          await google.colab.output.renderOutput(dataTable, element);\n",
              "          const docLink = document.createElement('div');\n",
              "          docLink.innerHTML = docLinkHtml;\n",
              "          element.appendChild(docLink);\n",
              "        }\n",
              "      </script>\n",
              "    </div>\n",
              "  </div>\n",
              "  "
            ]
          },
          "metadata": {},
          "execution_count": 8
        }
      ]
    },
    {
      "cell_type": "code",
      "source": [
        "#Check each column data type to make sure the type of numerical columns are float64 or int64, the rest columns are object type.\n",
        "salary.dtypes"
      ],
      "metadata": {
        "colab": {
          "base_uri": "https://localhost:8080/"
        },
        "id": "RJoaYqOwFRaF",
        "outputId": "0a6e6718-2569-4b88-94ca-8568e93fdcdf"
      },
      "execution_count": null,
      "outputs": [
        {
          "output_type": "execute_result",
          "data": {
            "text/plain": [
              "company_name          object\n",
              "location              object\n",
              "date_time             object\n",
              "salary_avg           float64\n",
              "salary_min           float64\n",
              "salary_max           float64\n",
              "Full-Time require      int64\n",
              "Health insurance       int64\n",
              "Dental insurance       int64\n",
              "Paid time off          int64\n",
              "Work from home         int64\n",
              "mysql                  int64\n",
              "excel                  int64\n",
              "python                 int64\n",
              "r                      int64\n",
              "c                      int64\n",
              "java                   int64\n",
              "aws                    int64\n",
              "spark                  int64\n",
              "dtype: object"
            ]
          },
          "metadata": {},
          "execution_count": 9
        }
      ]
    },
    {
      "cell_type": "markdown",
      "source": [
        "We notice that the type of date_time is object, but for better analysis we need to express the time in numeric form, and we don't need very detailed dates but only statistics in years, so we do some processing."
      ],
      "metadata": {
        "id": "bvnPkHNG7rH-"
      }
    },
    {
      "cell_type": "code",
      "source": [
        "salary['date_time'] = pd.to_datetime(salary['date_time']).dt.year\n",
        "salary['date_time'] = salary['date_time'].astype('int64')"
      ],
      "metadata": {
        "id": "UEkMTLSi736a"
      },
      "execution_count": null,
      "outputs": []
    },
    {
      "cell_type": "code",
      "source": [
        "#Check each column data type to make sure the type of numerical columns are float64 or int64, the rest columns are object type.\n",
        "salary.dtypes"
      ],
      "metadata": {
        "colab": {
          "base_uri": "https://localhost:8080/"
        },
        "id": "N9jODopr8YyM",
        "outputId": "36678fb9-875c-4741-fc24-24219e14187a"
      },
      "execution_count": null,
      "outputs": [
        {
          "output_type": "execute_result",
          "data": {
            "text/plain": [
              "company_name          object\n",
              "location              object\n",
              "date_time              int64\n",
              "salary_avg           float64\n",
              "salary_min           float64\n",
              "salary_max           float64\n",
              "Full-Time require      int64\n",
              "Health insurance       int64\n",
              "Dental insurance       int64\n",
              "Paid time off          int64\n",
              "Work from home         int64\n",
              "mysql                  int64\n",
              "excel                  int64\n",
              "python                 int64\n",
              "r                      int64\n",
              "c                      int64\n",
              "java                   int64\n",
              "aws                    int64\n",
              "spark                  int64\n",
              "dtype: object"
            ]
          },
          "metadata": {},
          "execution_count": 11
        }
      ]
    },
    {
      "cell_type": "markdown",
      "source": [
        "Now we have successfully completed the type conversion"
      ],
      "metadata": {
        "id": "C6nureZu8dF2"
      }
    },
    {
      "cell_type": "code",
      "source": [
        "salary['skills'] = salary[['mysql', 'excel', 'python', 'r', 'c', 'java', 'aws', 'spark']].sum(axis=1)\n",
        "salary.head()"
      ],
      "metadata": {
        "colab": {
          "base_uri": "https://localhost:8080/",
          "height": 337
        },
        "id": "Vmrqsv3nQnVj",
        "outputId": "1a607cfc-6e17-4e8e-91b9-f52f9299f868"
      },
      "execution_count": null,
      "outputs": [
        {
          "output_type": "execute_result",
          "data": {
            "text/plain": [
              "                company_name            location  date_time  salary_avg  \\\n",
              "0                     Upwork           Anywhere        2023        56.0   \n",
              "1  Acadia Technologies, Inc.       United States       2022     70000.0   \n",
              "2          rays technologies       United States       2022     95000.0   \n",
              "3            Orbital Insight    United States          2023    157500.0   \n",
              "4               EDWARD JONES         Chamois, MO       2022    103781.0   \n",
              "\n",
              "   salary_min  salary_max  Full-Time require  Health insurance  \\\n",
              "0        37.0        75.0                  0                 0   \n",
              "1     60000.0     80000.0                  1                 0   \n",
              "2     90000.0    100000.0                  1                 1   \n",
              "3    129000.0    186000.0                  1                 0   \n",
              "4     76798.0    130764.0                  1                 1   \n",
              "\n",
              "   Dental insurance  Paid time off  Work from home  mysql  excel  python  r  \\\n",
              "0                 0              0               1      0      1       0  0   \n",
              "1                 0              0               0      0      0       0  0   \n",
              "2                 1              1               0      0      0       0  1   \n",
              "3                 0              0               0      0      0       1  1   \n",
              "4                 0              0               0      0      1       1  1   \n",
              "\n",
              "   c  java  aws  spark  skills  \n",
              "0  1     0    0      0       2  \n",
              "1  0     0    0      0       0  \n",
              "2  0     0    1      0       2  \n",
              "3  1     0    0      0       3  \n",
              "4  1     0    0      0       4  "
            ],
            "text/html": [
              "\n",
              "  <div id=\"df-b4e28b89-a495-4b6c-9f62-d14dedb7a119\">\n",
              "    <div class=\"colab-df-container\">\n",
              "      <div>\n",
              "<style scoped>\n",
              "    .dataframe tbody tr th:only-of-type {\n",
              "        vertical-align: middle;\n",
              "    }\n",
              "\n",
              "    .dataframe tbody tr th {\n",
              "        vertical-align: top;\n",
              "    }\n",
              "\n",
              "    .dataframe thead th {\n",
              "        text-align: right;\n",
              "    }\n",
              "</style>\n",
              "<table border=\"1\" class=\"dataframe\">\n",
              "  <thead>\n",
              "    <tr style=\"text-align: right;\">\n",
              "      <th></th>\n",
              "      <th>company_name</th>\n",
              "      <th>location</th>\n",
              "      <th>date_time</th>\n",
              "      <th>salary_avg</th>\n",
              "      <th>salary_min</th>\n",
              "      <th>salary_max</th>\n",
              "      <th>Full-Time require</th>\n",
              "      <th>Health insurance</th>\n",
              "      <th>Dental insurance</th>\n",
              "      <th>Paid time off</th>\n",
              "      <th>Work from home</th>\n",
              "      <th>mysql</th>\n",
              "      <th>excel</th>\n",
              "      <th>python</th>\n",
              "      <th>r</th>\n",
              "      <th>c</th>\n",
              "      <th>java</th>\n",
              "      <th>aws</th>\n",
              "      <th>spark</th>\n",
              "      <th>skills</th>\n",
              "    </tr>\n",
              "  </thead>\n",
              "  <tbody>\n",
              "    <tr>\n",
              "      <th>0</th>\n",
              "      <td>Upwork</td>\n",
              "      <td>Anywhere</td>\n",
              "      <td>2023</td>\n",
              "      <td>56.0</td>\n",
              "      <td>37.0</td>\n",
              "      <td>75.0</td>\n",
              "      <td>0</td>\n",
              "      <td>0</td>\n",
              "      <td>0</td>\n",
              "      <td>0</td>\n",
              "      <td>1</td>\n",
              "      <td>0</td>\n",
              "      <td>1</td>\n",
              "      <td>0</td>\n",
              "      <td>0</td>\n",
              "      <td>1</td>\n",
              "      <td>0</td>\n",
              "      <td>0</td>\n",
              "      <td>0</td>\n",
              "      <td>2</td>\n",
              "    </tr>\n",
              "    <tr>\n",
              "      <th>1</th>\n",
              "      <td>Acadia Technologies, Inc.</td>\n",
              "      <td>United States</td>\n",
              "      <td>2022</td>\n",
              "      <td>70000.0</td>\n",
              "      <td>60000.0</td>\n",
              "      <td>80000.0</td>\n",
              "      <td>1</td>\n",
              "      <td>0</td>\n",
              "      <td>0</td>\n",
              "      <td>0</td>\n",
              "      <td>0</td>\n",
              "      <td>0</td>\n",
              "      <td>0</td>\n",
              "      <td>0</td>\n",
              "      <td>0</td>\n",
              "      <td>0</td>\n",
              "      <td>0</td>\n",
              "      <td>0</td>\n",
              "      <td>0</td>\n",
              "      <td>0</td>\n",
              "    </tr>\n",
              "    <tr>\n",
              "      <th>2</th>\n",
              "      <td>rays technologies</td>\n",
              "      <td>United States</td>\n",
              "      <td>2022</td>\n",
              "      <td>95000.0</td>\n",
              "      <td>90000.0</td>\n",
              "      <td>100000.0</td>\n",
              "      <td>1</td>\n",
              "      <td>1</td>\n",
              "      <td>1</td>\n",
              "      <td>1</td>\n",
              "      <td>0</td>\n",
              "      <td>0</td>\n",
              "      <td>0</td>\n",
              "      <td>0</td>\n",
              "      <td>1</td>\n",
              "      <td>0</td>\n",
              "      <td>0</td>\n",
              "      <td>1</td>\n",
              "      <td>0</td>\n",
              "      <td>2</td>\n",
              "    </tr>\n",
              "    <tr>\n",
              "      <th>3</th>\n",
              "      <td>Orbital Insight</td>\n",
              "      <td>United States</td>\n",
              "      <td>2023</td>\n",
              "      <td>157500.0</td>\n",
              "      <td>129000.0</td>\n",
              "      <td>186000.0</td>\n",
              "      <td>1</td>\n",
              "      <td>0</td>\n",
              "      <td>0</td>\n",
              "      <td>0</td>\n",
              "      <td>0</td>\n",
              "      <td>0</td>\n",
              "      <td>0</td>\n",
              "      <td>1</td>\n",
              "      <td>1</td>\n",
              "      <td>1</td>\n",
              "      <td>0</td>\n",
              "      <td>0</td>\n",
              "      <td>0</td>\n",
              "      <td>3</td>\n",
              "    </tr>\n",
              "    <tr>\n",
              "      <th>4</th>\n",
              "      <td>EDWARD JONES</td>\n",
              "      <td>Chamois, MO</td>\n",
              "      <td>2022</td>\n",
              "      <td>103781.0</td>\n",
              "      <td>76798.0</td>\n",
              "      <td>130764.0</td>\n",
              "      <td>1</td>\n",
              "      <td>1</td>\n",
              "      <td>0</td>\n",
              "      <td>0</td>\n",
              "      <td>0</td>\n",
              "      <td>0</td>\n",
              "      <td>1</td>\n",
              "      <td>1</td>\n",
              "      <td>1</td>\n",
              "      <td>1</td>\n",
              "      <td>0</td>\n",
              "      <td>0</td>\n",
              "      <td>0</td>\n",
              "      <td>4</td>\n",
              "    </tr>\n",
              "  </tbody>\n",
              "</table>\n",
              "</div>\n",
              "      <button class=\"colab-df-convert\" onclick=\"convertToInteractive('df-b4e28b89-a495-4b6c-9f62-d14dedb7a119')\"\n",
              "              title=\"Convert this dataframe to an interactive table.\"\n",
              "              style=\"display:none;\">\n",
              "        \n",
              "  <svg xmlns=\"http://www.w3.org/2000/svg\" height=\"24px\"viewBox=\"0 0 24 24\"\n",
              "       width=\"24px\">\n",
              "    <path d=\"M0 0h24v24H0V0z\" fill=\"none\"/>\n",
              "    <path d=\"M18.56 5.44l.94 2.06.94-2.06 2.06-.94-2.06-.94-.94-2.06-.94 2.06-2.06.94zm-11 1L8.5 8.5l.94-2.06 2.06-.94-2.06-.94L8.5 2.5l-.94 2.06-2.06.94zm10 10l.94 2.06.94-2.06 2.06-.94-2.06-.94-.94-2.06-.94 2.06-2.06.94z\"/><path d=\"M17.41 7.96l-1.37-1.37c-.4-.4-.92-.59-1.43-.59-.52 0-1.04.2-1.43.59L10.3 9.45l-7.72 7.72c-.78.78-.78 2.05 0 2.83L4 21.41c.39.39.9.59 1.41.59.51 0 1.02-.2 1.41-.59l7.78-7.78 2.81-2.81c.8-.78.8-2.07 0-2.86zM5.41 20L4 18.59l7.72-7.72 1.47 1.35L5.41 20z\"/>\n",
              "  </svg>\n",
              "      </button>\n",
              "      \n",
              "  <style>\n",
              "    .colab-df-container {\n",
              "      display:flex;\n",
              "      flex-wrap:wrap;\n",
              "      gap: 12px;\n",
              "    }\n",
              "\n",
              "    .colab-df-convert {\n",
              "      background-color: #E8F0FE;\n",
              "      border: none;\n",
              "      border-radius: 50%;\n",
              "      cursor: pointer;\n",
              "      display: none;\n",
              "      fill: #1967D2;\n",
              "      height: 32px;\n",
              "      padding: 0 0 0 0;\n",
              "      width: 32px;\n",
              "    }\n",
              "\n",
              "    .colab-df-convert:hover {\n",
              "      background-color: #E2EBFA;\n",
              "      box-shadow: 0px 1px 2px rgba(60, 64, 67, 0.3), 0px 1px 3px 1px rgba(60, 64, 67, 0.15);\n",
              "      fill: #174EA6;\n",
              "    }\n",
              "\n",
              "    [theme=dark] .colab-df-convert {\n",
              "      background-color: #3B4455;\n",
              "      fill: #D2E3FC;\n",
              "    }\n",
              "\n",
              "    [theme=dark] .colab-df-convert:hover {\n",
              "      background-color: #434B5C;\n",
              "      box-shadow: 0px 1px 3px 1px rgba(0, 0, 0, 0.15);\n",
              "      filter: drop-shadow(0px 1px 2px rgba(0, 0, 0, 0.3));\n",
              "      fill: #FFFFFF;\n",
              "    }\n",
              "  </style>\n",
              "\n",
              "      <script>\n",
              "        const buttonEl =\n",
              "          document.querySelector('#df-b4e28b89-a495-4b6c-9f62-d14dedb7a119 button.colab-df-convert');\n",
              "        buttonEl.style.display =\n",
              "          google.colab.kernel.accessAllowed ? 'block' : 'none';\n",
              "\n",
              "        async function convertToInteractive(key) {\n",
              "          const element = document.querySelector('#df-b4e28b89-a495-4b6c-9f62-d14dedb7a119');\n",
              "          const dataTable =\n",
              "            await google.colab.kernel.invokeFunction('convertToInteractive',\n",
              "                                                     [key], {});\n",
              "          if (!dataTable) return;\n",
              "\n",
              "          const docLinkHtml = 'Like what you see? Visit the ' +\n",
              "            '<a target=\"_blank\" href=https://colab.research.google.com/notebooks/data_table.ipynb>data table notebook</a>'\n",
              "            + ' to learn more about interactive tables.';\n",
              "          element.innerHTML = '';\n",
              "          dataTable['output_type'] = 'display_data';\n",
              "          await google.colab.output.renderOutput(dataTable, element);\n",
              "          const docLink = document.createElement('div');\n",
              "          docLink.innerHTML = docLinkHtml;\n",
              "          element.appendChild(docLink);\n",
              "        }\n",
              "      </script>\n",
              "    </div>\n",
              "  </div>\n",
              "  "
            ]
          },
          "metadata": {},
          "execution_count": 12
        }
      ]
    },
    {
      "cell_type": "markdown",
      "source": [
        "Finally, we filtered the data set for duplicate rows and rows containing missing values"
      ],
      "metadata": {
        "id": "4UduOMM6YKmq"
      }
    },
    {
      "cell_type": "code",
      "source": [
        "#Delete rows containing missing values in the dataset\n",
        "salary = salary.dropna()"
      ],
      "metadata": {
        "id": "dryzDpMAW9YP"
      },
      "execution_count": null,
      "outputs": []
    },
    {
      "cell_type": "code",
      "source": [
        "# Find duplicate rows\n",
        "duplicated_rows = salary.duplicated()\n",
        "\n",
        "# Drop completely duplicate rows\n",
        "salary = salary.drop_duplicates()\n",
        "\n",
        "#Removal of data below the legal minimum annual salary, which is often caused by improper job information\n",
        "salary = salary[(salary['salary_avg'] >= 15800) | (salary['salary_min'] >= 15800) | (salary['salary_max'] >= 15800)]"
      ],
      "metadata": {
        "id": "CV2Q6VGxXQya"
      },
      "execution_count": null,
      "outputs": []
    },
    {
      "cell_type": "code",
      "source": [
        "#Check if there is any missing value in the dataset\n",
        "salary.isnull().any().any()"
      ],
      "metadata": {
        "colab": {
          "base_uri": "https://localhost:8080/"
        },
        "id": "B69C39YjCcD6",
        "outputId": "59369eaa-1b51-46ce-f1c6-813f56330c39"
      },
      "execution_count": null,
      "outputs": [
        {
          "output_type": "execute_result",
          "data": {
            "text/plain": [
              "False"
            ]
          },
          "metadata": {},
          "execution_count": 15
        }
      ]
    },
    {
      "cell_type": "code",
      "source": [
        "#Check if there is any duplicates in the dataset\n",
        "salary.duplicated().any()"
      ],
      "metadata": {
        "colab": {
          "base_uri": "https://localhost:8080/"
        },
        "id": "9jJOJD3rGSb5",
        "outputId": "1ce1f11c-39af-470a-c330-e2b2f165615c"
      },
      "execution_count": null,
      "outputs": [
        {
          "output_type": "execute_result",
          "data": {
            "text/plain": [
              "False"
            ]
          },
          "metadata": {},
          "execution_count": 16
        }
      ]
    },
    {
      "cell_type": "code",
      "source": [
        "salary.head()"
      ],
      "metadata": {
        "colab": {
          "base_uri": "https://localhost:8080/",
          "height": 337
        },
        "id": "N7ulcgMBz38r",
        "outputId": "0796564e-d710-4504-dd90-689af98e1b3a"
      },
      "execution_count": null,
      "outputs": [
        {
          "output_type": "execute_result",
          "data": {
            "text/plain": [
              "                company_name            location  date_time  salary_avg  \\\n",
              "1  Acadia Technologies, Inc.       United States       2022     70000.0   \n",
              "2          rays technologies       United States       2022     95000.0   \n",
              "3            Orbital Insight    United States          2023    157500.0   \n",
              "4               EDWARD JONES         Chamois, MO       2022    103781.0   \n",
              "5               EDWARD JONES            Nixa, MO       2022    122470.5   \n",
              "\n",
              "   salary_min  salary_max  Full-Time require  Health insurance  \\\n",
              "1     60000.0     80000.0                  1                 0   \n",
              "2     90000.0    100000.0                  1                 1   \n",
              "3    129000.0    186000.0                  1                 0   \n",
              "4     76798.0    130764.0                  1                 1   \n",
              "5     90628.0    154313.0                  1                 1   \n",
              "\n",
              "   Dental insurance  Paid time off  Work from home  mysql  excel  python  r  \\\n",
              "1                 0              0               0      0      0       0  0   \n",
              "2                 1              1               0      0      0       0  1   \n",
              "3                 0              0               0      0      0       1  1   \n",
              "4                 0              0               0      0      1       1  1   \n",
              "5                 0              0               0      0      1       1  1   \n",
              "\n",
              "   c  java  aws  spark  skills  \n",
              "1  0     0    0      0       0  \n",
              "2  0     0    1      0       2  \n",
              "3  1     0    0      0       3  \n",
              "4  1     0    0      0       4  \n",
              "5  1     0    0      0       4  "
            ],
            "text/html": [
              "\n",
              "  <div id=\"df-e0a243b3-0ee0-4472-9f72-d7e88413d03a\">\n",
              "    <div class=\"colab-df-container\">\n",
              "      <div>\n",
              "<style scoped>\n",
              "    .dataframe tbody tr th:only-of-type {\n",
              "        vertical-align: middle;\n",
              "    }\n",
              "\n",
              "    .dataframe tbody tr th {\n",
              "        vertical-align: top;\n",
              "    }\n",
              "\n",
              "    .dataframe thead th {\n",
              "        text-align: right;\n",
              "    }\n",
              "</style>\n",
              "<table border=\"1\" class=\"dataframe\">\n",
              "  <thead>\n",
              "    <tr style=\"text-align: right;\">\n",
              "      <th></th>\n",
              "      <th>company_name</th>\n",
              "      <th>location</th>\n",
              "      <th>date_time</th>\n",
              "      <th>salary_avg</th>\n",
              "      <th>salary_min</th>\n",
              "      <th>salary_max</th>\n",
              "      <th>Full-Time require</th>\n",
              "      <th>Health insurance</th>\n",
              "      <th>Dental insurance</th>\n",
              "      <th>Paid time off</th>\n",
              "      <th>Work from home</th>\n",
              "      <th>mysql</th>\n",
              "      <th>excel</th>\n",
              "      <th>python</th>\n",
              "      <th>r</th>\n",
              "      <th>c</th>\n",
              "      <th>java</th>\n",
              "      <th>aws</th>\n",
              "      <th>spark</th>\n",
              "      <th>skills</th>\n",
              "    </tr>\n",
              "  </thead>\n",
              "  <tbody>\n",
              "    <tr>\n",
              "      <th>1</th>\n",
              "      <td>Acadia Technologies, Inc.</td>\n",
              "      <td>United States</td>\n",
              "      <td>2022</td>\n",
              "      <td>70000.0</td>\n",
              "      <td>60000.0</td>\n",
              "      <td>80000.0</td>\n",
              "      <td>1</td>\n",
              "      <td>0</td>\n",
              "      <td>0</td>\n",
              "      <td>0</td>\n",
              "      <td>0</td>\n",
              "      <td>0</td>\n",
              "      <td>0</td>\n",
              "      <td>0</td>\n",
              "      <td>0</td>\n",
              "      <td>0</td>\n",
              "      <td>0</td>\n",
              "      <td>0</td>\n",
              "      <td>0</td>\n",
              "      <td>0</td>\n",
              "    </tr>\n",
              "    <tr>\n",
              "      <th>2</th>\n",
              "      <td>rays technologies</td>\n",
              "      <td>United States</td>\n",
              "      <td>2022</td>\n",
              "      <td>95000.0</td>\n",
              "      <td>90000.0</td>\n",
              "      <td>100000.0</td>\n",
              "      <td>1</td>\n",
              "      <td>1</td>\n",
              "      <td>1</td>\n",
              "      <td>1</td>\n",
              "      <td>0</td>\n",
              "      <td>0</td>\n",
              "      <td>0</td>\n",
              "      <td>0</td>\n",
              "      <td>1</td>\n",
              "      <td>0</td>\n",
              "      <td>0</td>\n",
              "      <td>1</td>\n",
              "      <td>0</td>\n",
              "      <td>2</td>\n",
              "    </tr>\n",
              "    <tr>\n",
              "      <th>3</th>\n",
              "      <td>Orbital Insight</td>\n",
              "      <td>United States</td>\n",
              "      <td>2023</td>\n",
              "      <td>157500.0</td>\n",
              "      <td>129000.0</td>\n",
              "      <td>186000.0</td>\n",
              "      <td>1</td>\n",
              "      <td>0</td>\n",
              "      <td>0</td>\n",
              "      <td>0</td>\n",
              "      <td>0</td>\n",
              "      <td>0</td>\n",
              "      <td>0</td>\n",
              "      <td>1</td>\n",
              "      <td>1</td>\n",
              "      <td>1</td>\n",
              "      <td>0</td>\n",
              "      <td>0</td>\n",
              "      <td>0</td>\n",
              "      <td>3</td>\n",
              "    </tr>\n",
              "    <tr>\n",
              "      <th>4</th>\n",
              "      <td>EDWARD JONES</td>\n",
              "      <td>Chamois, MO</td>\n",
              "      <td>2022</td>\n",
              "      <td>103781.0</td>\n",
              "      <td>76798.0</td>\n",
              "      <td>130764.0</td>\n",
              "      <td>1</td>\n",
              "      <td>1</td>\n",
              "      <td>0</td>\n",
              "      <td>0</td>\n",
              "      <td>0</td>\n",
              "      <td>0</td>\n",
              "      <td>1</td>\n",
              "      <td>1</td>\n",
              "      <td>1</td>\n",
              "      <td>1</td>\n",
              "      <td>0</td>\n",
              "      <td>0</td>\n",
              "      <td>0</td>\n",
              "      <td>4</td>\n",
              "    </tr>\n",
              "    <tr>\n",
              "      <th>5</th>\n",
              "      <td>EDWARD JONES</td>\n",
              "      <td>Nixa, MO</td>\n",
              "      <td>2022</td>\n",
              "      <td>122470.5</td>\n",
              "      <td>90628.0</td>\n",
              "      <td>154313.0</td>\n",
              "      <td>1</td>\n",
              "      <td>1</td>\n",
              "      <td>0</td>\n",
              "      <td>0</td>\n",
              "      <td>0</td>\n",
              "      <td>0</td>\n",
              "      <td>1</td>\n",
              "      <td>1</td>\n",
              "      <td>1</td>\n",
              "      <td>1</td>\n",
              "      <td>0</td>\n",
              "      <td>0</td>\n",
              "      <td>0</td>\n",
              "      <td>4</td>\n",
              "    </tr>\n",
              "  </tbody>\n",
              "</table>\n",
              "</div>\n",
              "      <button class=\"colab-df-convert\" onclick=\"convertToInteractive('df-e0a243b3-0ee0-4472-9f72-d7e88413d03a')\"\n",
              "              title=\"Convert this dataframe to an interactive table.\"\n",
              "              style=\"display:none;\">\n",
              "        \n",
              "  <svg xmlns=\"http://www.w3.org/2000/svg\" height=\"24px\"viewBox=\"0 0 24 24\"\n",
              "       width=\"24px\">\n",
              "    <path d=\"M0 0h24v24H0V0z\" fill=\"none\"/>\n",
              "    <path d=\"M18.56 5.44l.94 2.06.94-2.06 2.06-.94-2.06-.94-.94-2.06-.94 2.06-2.06.94zm-11 1L8.5 8.5l.94-2.06 2.06-.94-2.06-.94L8.5 2.5l-.94 2.06-2.06.94zm10 10l.94 2.06.94-2.06 2.06-.94-2.06-.94-.94-2.06-.94 2.06-2.06.94z\"/><path d=\"M17.41 7.96l-1.37-1.37c-.4-.4-.92-.59-1.43-.59-.52 0-1.04.2-1.43.59L10.3 9.45l-7.72 7.72c-.78.78-.78 2.05 0 2.83L4 21.41c.39.39.9.59 1.41.59.51 0 1.02-.2 1.41-.59l7.78-7.78 2.81-2.81c.8-.78.8-2.07 0-2.86zM5.41 20L4 18.59l7.72-7.72 1.47 1.35L5.41 20z\"/>\n",
              "  </svg>\n",
              "      </button>\n",
              "      \n",
              "  <style>\n",
              "    .colab-df-container {\n",
              "      display:flex;\n",
              "      flex-wrap:wrap;\n",
              "      gap: 12px;\n",
              "    }\n",
              "\n",
              "    .colab-df-convert {\n",
              "      background-color: #E8F0FE;\n",
              "      border: none;\n",
              "      border-radius: 50%;\n",
              "      cursor: pointer;\n",
              "      display: none;\n",
              "      fill: #1967D2;\n",
              "      height: 32px;\n",
              "      padding: 0 0 0 0;\n",
              "      width: 32px;\n",
              "    }\n",
              "\n",
              "    .colab-df-convert:hover {\n",
              "      background-color: #E2EBFA;\n",
              "      box-shadow: 0px 1px 2px rgba(60, 64, 67, 0.3), 0px 1px 3px 1px rgba(60, 64, 67, 0.15);\n",
              "      fill: #174EA6;\n",
              "    }\n",
              "\n",
              "    [theme=dark] .colab-df-convert {\n",
              "      background-color: #3B4455;\n",
              "      fill: #D2E3FC;\n",
              "    }\n",
              "\n",
              "    [theme=dark] .colab-df-convert:hover {\n",
              "      background-color: #434B5C;\n",
              "      box-shadow: 0px 1px 3px 1px rgba(0, 0, 0, 0.15);\n",
              "      filter: drop-shadow(0px 1px 2px rgba(0, 0, 0, 0.3));\n",
              "      fill: #FFFFFF;\n",
              "    }\n",
              "  </style>\n",
              "\n",
              "      <script>\n",
              "        const buttonEl =\n",
              "          document.querySelector('#df-e0a243b3-0ee0-4472-9f72-d7e88413d03a button.colab-df-convert');\n",
              "        buttonEl.style.display =\n",
              "          google.colab.kernel.accessAllowed ? 'block' : 'none';\n",
              "\n",
              "        async function convertToInteractive(key) {\n",
              "          const element = document.querySelector('#df-e0a243b3-0ee0-4472-9f72-d7e88413d03a');\n",
              "          const dataTable =\n",
              "            await google.colab.kernel.invokeFunction('convertToInteractive',\n",
              "                                                     [key], {});\n",
              "          if (!dataTable) return;\n",
              "\n",
              "          const docLinkHtml = 'Like what you see? Visit the ' +\n",
              "            '<a target=\"_blank\" href=https://colab.research.google.com/notebooks/data_table.ipynb>data table notebook</a>'\n",
              "            + ' to learn more about interactive tables.';\n",
              "          element.innerHTML = '';\n",
              "          dataTable['output_type'] = 'display_data';\n",
              "          await google.colab.output.renderOutput(dataTable, element);\n",
              "          const docLink = document.createElement('div');\n",
              "          docLink.innerHTML = docLinkHtml;\n",
              "          element.appendChild(docLink);\n",
              "        }\n",
              "      </script>\n",
              "    </div>\n",
              "  </div>\n",
              "  "
            ]
          },
          "metadata": {},
          "execution_count": 17
        }
      ]
    },
    {
      "cell_type": "markdown",
      "source": [
        "# **Data Analysis & Results (EDA)**"
      ],
      "metadata": {
        "id": "lCpvS3F5bzir"
      }
    },
    {
      "cell_type": "markdown",
      "source": [
        "#Exploratory Descriptive Analysis"
      ],
      "metadata": {
        "id": "RHePWi4QTAWd"
      }
    },
    {
      "cell_type": "code",
      "source": [
        "# describes the data in  'salary' DataFrame and rounds it to 2 decimal\n",
        "description = salary.describe().round(2)\n",
        "\n",
        "# converts the 'date_time' column to integer type\n",
        "description['date_time'] = description['date_time'].astype(int)\n",
        "\n",
        "# removes the row with the 'count' index from the DataFrame\n",
        "description = description.drop('count')\n",
        "\n",
        "description"
      ],
      "metadata": {
        "colab": {
          "base_uri": "https://localhost:8080/",
          "height": 269
        },
        "id": "XbuHlFeoj_J4",
        "outputId": "cef64ffd-d158-43b4-dcb0-398346d2b389"
      },
      "execution_count": null,
      "outputs": [
        {
          "output_type": "execute_result",
          "data": {
            "text/plain": [
              "      date_time  salary_avg  salary_min  salary_max  Full-Time require  \\\n",
              "mean       2022   102115.62    84821.62   119409.62               0.97   \n",
              "std           0    28911.10    24927.15    35852.40               0.18   \n",
              "min        2022    35401.50    27519.63    43283.37               0.00   \n",
              "25%        2022    85000.00    70000.00    95000.00               1.00   \n",
              "50%        2023    96500.00    77000.00   116000.00               1.00   \n",
              "75%        2023   115000.00    95000.00   135000.00               1.00   \n",
              "max        2023   232500.00   215000.00   260000.00               1.00   \n",
              "\n",
              "      Health insurance  Dental insurance  Paid time off  Work from home  \\\n",
              "mean              0.64              0.44           0.44            0.44   \n",
              "std               0.48              0.50           0.50            0.50   \n",
              "min               0.00              0.00           0.00            0.00   \n",
              "25%               0.00              0.00           0.00            0.00   \n",
              "50%               1.00              0.00           0.00            0.00   \n",
              "75%               1.00              1.00           1.00            1.00   \n",
              "max               1.00              1.00           1.00            1.00   \n",
              "\n",
              "      mysql  excel  python     r     c  java   aws  spark  skills  \n",
              "mean   0.01   0.40    0.34  0.68  0.54  0.04  0.09   0.02    2.13  \n",
              "std    0.11   0.49    0.47  0.47  0.50  0.20  0.28   0.15    1.44  \n",
              "min    0.00   0.00    0.00  0.00  0.00  0.00  0.00   0.00    0.00  \n",
              "25%    0.00   0.00    0.00  0.00  0.00  0.00  0.00   0.00    1.00  \n",
              "50%    0.00   0.00    0.00  1.00  1.00  0.00  0.00   0.00    2.00  \n",
              "75%    0.00   1.00    1.00  1.00  1.00  0.00  0.00   0.00    3.00  \n",
              "max    1.00   1.00    1.00  1.00  1.00  1.00  1.00   1.00    6.00  "
            ],
            "text/html": [
              "\n",
              "  <div id=\"df-1ccb5efd-f9fe-4205-9e30-2137693d1b86\">\n",
              "    <div class=\"colab-df-container\">\n",
              "      <div>\n",
              "<style scoped>\n",
              "    .dataframe tbody tr th:only-of-type {\n",
              "        vertical-align: middle;\n",
              "    }\n",
              "\n",
              "    .dataframe tbody tr th {\n",
              "        vertical-align: top;\n",
              "    }\n",
              "\n",
              "    .dataframe thead th {\n",
              "        text-align: right;\n",
              "    }\n",
              "</style>\n",
              "<table border=\"1\" class=\"dataframe\">\n",
              "  <thead>\n",
              "    <tr style=\"text-align: right;\">\n",
              "      <th></th>\n",
              "      <th>date_time</th>\n",
              "      <th>salary_avg</th>\n",
              "      <th>salary_min</th>\n",
              "      <th>salary_max</th>\n",
              "      <th>Full-Time require</th>\n",
              "      <th>Health insurance</th>\n",
              "      <th>Dental insurance</th>\n",
              "      <th>Paid time off</th>\n",
              "      <th>Work from home</th>\n",
              "      <th>mysql</th>\n",
              "      <th>excel</th>\n",
              "      <th>python</th>\n",
              "      <th>r</th>\n",
              "      <th>c</th>\n",
              "      <th>java</th>\n",
              "      <th>aws</th>\n",
              "      <th>spark</th>\n",
              "      <th>skills</th>\n",
              "    </tr>\n",
              "  </thead>\n",
              "  <tbody>\n",
              "    <tr>\n",
              "      <th>mean</th>\n",
              "      <td>2022</td>\n",
              "      <td>102115.62</td>\n",
              "      <td>84821.62</td>\n",
              "      <td>119409.62</td>\n",
              "      <td>0.97</td>\n",
              "      <td>0.64</td>\n",
              "      <td>0.44</td>\n",
              "      <td>0.44</td>\n",
              "      <td>0.44</td>\n",
              "      <td>0.01</td>\n",
              "      <td>0.40</td>\n",
              "      <td>0.34</td>\n",
              "      <td>0.68</td>\n",
              "      <td>0.54</td>\n",
              "      <td>0.04</td>\n",
              "      <td>0.09</td>\n",
              "      <td>0.02</td>\n",
              "      <td>2.13</td>\n",
              "    </tr>\n",
              "    <tr>\n",
              "      <th>std</th>\n",
              "      <td>0</td>\n",
              "      <td>28911.10</td>\n",
              "      <td>24927.15</td>\n",
              "      <td>35852.40</td>\n",
              "      <td>0.18</td>\n",
              "      <td>0.48</td>\n",
              "      <td>0.50</td>\n",
              "      <td>0.50</td>\n",
              "      <td>0.50</td>\n",
              "      <td>0.11</td>\n",
              "      <td>0.49</td>\n",
              "      <td>0.47</td>\n",
              "      <td>0.47</td>\n",
              "      <td>0.50</td>\n",
              "      <td>0.20</td>\n",
              "      <td>0.28</td>\n",
              "      <td>0.15</td>\n",
              "      <td>1.44</td>\n",
              "    </tr>\n",
              "    <tr>\n",
              "      <th>min</th>\n",
              "      <td>2022</td>\n",
              "      <td>35401.50</td>\n",
              "      <td>27519.63</td>\n",
              "      <td>43283.37</td>\n",
              "      <td>0.00</td>\n",
              "      <td>0.00</td>\n",
              "      <td>0.00</td>\n",
              "      <td>0.00</td>\n",
              "      <td>0.00</td>\n",
              "      <td>0.00</td>\n",
              "      <td>0.00</td>\n",
              "      <td>0.00</td>\n",
              "      <td>0.00</td>\n",
              "      <td>0.00</td>\n",
              "      <td>0.00</td>\n",
              "      <td>0.00</td>\n",
              "      <td>0.00</td>\n",
              "      <td>0.00</td>\n",
              "    </tr>\n",
              "    <tr>\n",
              "      <th>25%</th>\n",
              "      <td>2022</td>\n",
              "      <td>85000.00</td>\n",
              "      <td>70000.00</td>\n",
              "      <td>95000.00</td>\n",
              "      <td>1.00</td>\n",
              "      <td>0.00</td>\n",
              "      <td>0.00</td>\n",
              "      <td>0.00</td>\n",
              "      <td>0.00</td>\n",
              "      <td>0.00</td>\n",
              "      <td>0.00</td>\n",
              "      <td>0.00</td>\n",
              "      <td>0.00</td>\n",
              "      <td>0.00</td>\n",
              "      <td>0.00</td>\n",
              "      <td>0.00</td>\n",
              "      <td>0.00</td>\n",
              "      <td>1.00</td>\n",
              "    </tr>\n",
              "    <tr>\n",
              "      <th>50%</th>\n",
              "      <td>2023</td>\n",
              "      <td>96500.00</td>\n",
              "      <td>77000.00</td>\n",
              "      <td>116000.00</td>\n",
              "      <td>1.00</td>\n",
              "      <td>1.00</td>\n",
              "      <td>0.00</td>\n",
              "      <td>0.00</td>\n",
              "      <td>0.00</td>\n",
              "      <td>0.00</td>\n",
              "      <td>0.00</td>\n",
              "      <td>0.00</td>\n",
              "      <td>1.00</td>\n",
              "      <td>1.00</td>\n",
              "      <td>0.00</td>\n",
              "      <td>0.00</td>\n",
              "      <td>0.00</td>\n",
              "      <td>2.00</td>\n",
              "    </tr>\n",
              "    <tr>\n",
              "      <th>75%</th>\n",
              "      <td>2023</td>\n",
              "      <td>115000.00</td>\n",
              "      <td>95000.00</td>\n",
              "      <td>135000.00</td>\n",
              "      <td>1.00</td>\n",
              "      <td>1.00</td>\n",
              "      <td>1.00</td>\n",
              "      <td>1.00</td>\n",
              "      <td>1.00</td>\n",
              "      <td>0.00</td>\n",
              "      <td>1.00</td>\n",
              "      <td>1.00</td>\n",
              "      <td>1.00</td>\n",
              "      <td>1.00</td>\n",
              "      <td>0.00</td>\n",
              "      <td>0.00</td>\n",
              "      <td>0.00</td>\n",
              "      <td>3.00</td>\n",
              "    </tr>\n",
              "    <tr>\n",
              "      <th>max</th>\n",
              "      <td>2023</td>\n",
              "      <td>232500.00</td>\n",
              "      <td>215000.00</td>\n",
              "      <td>260000.00</td>\n",
              "      <td>1.00</td>\n",
              "      <td>1.00</td>\n",
              "      <td>1.00</td>\n",
              "      <td>1.00</td>\n",
              "      <td>1.00</td>\n",
              "      <td>1.00</td>\n",
              "      <td>1.00</td>\n",
              "      <td>1.00</td>\n",
              "      <td>1.00</td>\n",
              "      <td>1.00</td>\n",
              "      <td>1.00</td>\n",
              "      <td>1.00</td>\n",
              "      <td>1.00</td>\n",
              "      <td>6.00</td>\n",
              "    </tr>\n",
              "  </tbody>\n",
              "</table>\n",
              "</div>\n",
              "      <button class=\"colab-df-convert\" onclick=\"convertToInteractive('df-1ccb5efd-f9fe-4205-9e30-2137693d1b86')\"\n",
              "              title=\"Convert this dataframe to an interactive table.\"\n",
              "              style=\"display:none;\">\n",
              "        \n",
              "  <svg xmlns=\"http://www.w3.org/2000/svg\" height=\"24px\"viewBox=\"0 0 24 24\"\n",
              "       width=\"24px\">\n",
              "    <path d=\"M0 0h24v24H0V0z\" fill=\"none\"/>\n",
              "    <path d=\"M18.56 5.44l.94 2.06.94-2.06 2.06-.94-2.06-.94-.94-2.06-.94 2.06-2.06.94zm-11 1L8.5 8.5l.94-2.06 2.06-.94-2.06-.94L8.5 2.5l-.94 2.06-2.06.94zm10 10l.94 2.06.94-2.06 2.06-.94-2.06-.94-.94-2.06-.94 2.06-2.06.94z\"/><path d=\"M17.41 7.96l-1.37-1.37c-.4-.4-.92-.59-1.43-.59-.52 0-1.04.2-1.43.59L10.3 9.45l-7.72 7.72c-.78.78-.78 2.05 0 2.83L4 21.41c.39.39.9.59 1.41.59.51 0 1.02-.2 1.41-.59l7.78-7.78 2.81-2.81c.8-.78.8-2.07 0-2.86zM5.41 20L4 18.59l7.72-7.72 1.47 1.35L5.41 20z\"/>\n",
              "  </svg>\n",
              "      </button>\n",
              "      \n",
              "  <style>\n",
              "    .colab-df-container {\n",
              "      display:flex;\n",
              "      flex-wrap:wrap;\n",
              "      gap: 12px;\n",
              "    }\n",
              "\n",
              "    .colab-df-convert {\n",
              "      background-color: #E8F0FE;\n",
              "      border: none;\n",
              "      border-radius: 50%;\n",
              "      cursor: pointer;\n",
              "      display: none;\n",
              "      fill: #1967D2;\n",
              "      height: 32px;\n",
              "      padding: 0 0 0 0;\n",
              "      width: 32px;\n",
              "    }\n",
              "\n",
              "    .colab-df-convert:hover {\n",
              "      background-color: #E2EBFA;\n",
              "      box-shadow: 0px 1px 2px rgba(60, 64, 67, 0.3), 0px 1px 3px 1px rgba(60, 64, 67, 0.15);\n",
              "      fill: #174EA6;\n",
              "    }\n",
              "\n",
              "    [theme=dark] .colab-df-convert {\n",
              "      background-color: #3B4455;\n",
              "      fill: #D2E3FC;\n",
              "    }\n",
              "\n",
              "    [theme=dark] .colab-df-convert:hover {\n",
              "      background-color: #434B5C;\n",
              "      box-shadow: 0px 1px 3px 1px rgba(0, 0, 0, 0.15);\n",
              "      filter: drop-shadow(0px 1px 2px rgba(0, 0, 0, 0.3));\n",
              "      fill: #FFFFFF;\n",
              "    }\n",
              "  </style>\n",
              "\n",
              "      <script>\n",
              "        const buttonEl =\n",
              "          document.querySelector('#df-1ccb5efd-f9fe-4205-9e30-2137693d1b86 button.colab-df-convert');\n",
              "        buttonEl.style.display =\n",
              "          google.colab.kernel.accessAllowed ? 'block' : 'none';\n",
              "\n",
              "        async function convertToInteractive(key) {\n",
              "          const element = document.querySelector('#df-1ccb5efd-f9fe-4205-9e30-2137693d1b86');\n",
              "          const dataTable =\n",
              "            await google.colab.kernel.invokeFunction('convertToInteractive',\n",
              "                                                     [key], {});\n",
              "          if (!dataTable) return;\n",
              "\n",
              "          const docLinkHtml = 'Like what you see? Visit the ' +\n",
              "            '<a target=\"_blank\" href=https://colab.research.google.com/notebooks/data_table.ipynb>data table notebook</a>'\n",
              "            + ' to learn more about interactive tables.';\n",
              "          element.innerHTML = '';\n",
              "          dataTable['output_type'] = 'display_data';\n",
              "          await google.colab.output.renderOutput(dataTable, element);\n",
              "          const docLink = document.createElement('div');\n",
              "          docLink.innerHTML = docLinkHtml;\n",
              "          element.appendChild(docLink);\n",
              "        }\n",
              "      </script>\n",
              "    </div>\n",
              "  </div>\n",
              "  "
            ]
          },
          "metadata": {},
          "execution_count": 18
        }
      ]
    },
    {
      "cell_type": "markdown",
      "source": [
        "After processing the data, we performed a descriptive analysis of the data. In the database, some data are represented as True or False, which results in their values being either 0 or 1. For these data, their mean and median represent the corresponding proportions rather than specific values."
      ],
      "metadata": {
        "id": "Ie-Z4m9BoBWG"
      }
    },
    {
      "cell_type": "markdown",
      "source": [
        "### Eliminating the outliers"
      ],
      "metadata": {
        "id": "FuEWcyNIVJdR"
      }
    },
    {
      "cell_type": "code",
      "source": [
        "#Plotting box plots to determine the presence of outliers\n",
        "plt.boxplot(salary['salary_avg'])\n",
        "plt.title('Salary Boxplot')\n",
        "plt.ylabel('salary(USD/year)')"
      ],
      "metadata": {
        "colab": {
          "base_uri": "https://localhost:8080/",
          "height": 470
        },
        "id": "cMRx6Yl0IqMe",
        "outputId": "11b099e9-934f-4744-f1bb-8193a12f0956"
      },
      "execution_count": null,
      "outputs": [
        {
          "output_type": "execute_result",
          "data": {
            "text/plain": [
              "Text(0, 0.5, 'salary(USD/year)')"
            ]
          },
          "metadata": {},
          "execution_count": 19
        },
        {
          "output_type": "display_data",
          "data": {
            "text/plain": [
              "<Figure size 640x480 with 1 Axes>"
            ],
            "image/png": "[encoded data removed]"
          },
          "metadata": {}
        }
      ]
    },
    {
      "cell_type": "markdown",
      "source": [
        "From the boxplot, we can see that there are indeed some outliers. We want to eliminate the effect of significant outliers (unreasonably high/low wages). So here we use the IQR technique to discriminate and control the outliers."
      ],
      "metadata": {
        "id": "rOXGs4ieoUte"
      }
    },
    {
      "cell_type": "code",
      "source": [
        "# Calculates the interquartile range (IQR) for the 'salary_avg', 'salary_min', and 'salary_max' columns.\n",
        "# An outlier is defined as the value below Q1-1.5IQR or above Q3+1.5IQR.\n",
        "# Remove those outliers from these columns from the dataset.\n",
        "Q1 = salary[['salary_avg', 'salary_min', 'salary_max']].quantile(0.25)\n",
        "Q3 = salary[['salary_avg', 'salary_min', 'salary_max']].quantile(0.75)\n",
        "IQR = Q3 - Q1\n",
        "\n",
        "salary = salary[~((salary[['salary_avg', 'salary_min', 'salary_max']] < (Q1 - 1.5 * IQR)) |(salary[['salary_avg', 'salary_min', 'salary_max']] > (Q3 + 1.5 * IQR))).any(axis=1)]"
      ],
      "metadata": {
        "id": "UlmjcMOEjfOb"
      },
      "execution_count": null,
      "outputs": []
    },
    {
      "cell_type": "code",
      "source": [
        "#Checking -- New boxplot after removing outliers\n",
        "plt.boxplot(salary['salary_avg'])\n",
        "plt.title('Salary Boxplot')\n",
        "plt.ylabel('salary(USD/year)')"
      ],
      "metadata": {
        "colab": {
          "base_uri": "https://localhost:8080/",
          "height": 470
        },
        "id": "tcBUxg6laz29",
        "outputId": "c90e11ca-de8a-47b0-a9ab-efe284a22544"
      },
      "execution_count": null,
      "outputs": [
        {
          "output_type": "execute_result",
          "data": {
            "text/plain": [
              "Text(0, 0.5, 'salary(USD/year)')"
            ]
          },
          "metadata": {},
          "execution_count": 21
        },
        {
          "output_type": "display_data",
          "data": {
            "text/plain": [
              "<Figure size 640x480 with 1 Axes>"
            ],
            "image/png": "[encoded data removed]"
          },
          "metadata": {}
        }
      ]
    },
    {
      "cell_type": "markdown",
      "source": [
        "Now that we have successfully eliminated the outliers, we need to check if there are some wrong entries. From the code above, the dataset does not have any missing data. Since the dataset has the columns min_salary, max_salary, and avg_salary, there should not be any data entry errors (wrong data type, impossible data, etc.). We also found that there are no duplicate entries in the dataset we cleaned. Therefore, we can say that our cleaned dataset has no incorrect entries."
      ],
      "metadata": {
        "id": "FDPawf68bJFI"
      }
    },
    {
      "cell_type": "code",
      "source": [
        "# Summary Statistics\n",
        "summary_stats = salary[['salary_avg', 'salary_min', 'salary_max']].describe()\n",
        "print(summary_stats)"
      ],
      "metadata": {
        "colab": {
          "base_uri": "https://localhost:8080/"
        },
        "id": "IMSFY9wl0nEC",
        "outputId": "8387f84f-0c5b-4f3c-9b37-1d3f72c3dbc5"
      },
      "execution_count": null,
      "outputs": [
        {
          "output_type": "stream",
          "name": "stdout",
          "text": [
            "          salary_avg     salary_min     salary_max\n",
            "count     957.000000     957.000000     957.000000\n",
            "mean    98088.822591   81107.289154  115070.356029\n",
            "std     23035.329127   18857.938363   30207.927602\n",
            "min     42500.000000   37577.000000   45000.000000\n",
            "25%     82500.000000   70000.000000   93120.000000\n",
            "50%     96500.000000   77000.000000  116000.000000\n",
            "75%    110000.000000   90000.000000  130764.000000\n",
            "max    159500.000000  130000.000000  195000.000000\n"
          ]
        }
      ]
    },
    {
      "cell_type": "markdown",
      "source": [
        "### Explore several factors that may affect salaries: companies, locations, languages, and benefit offerings"
      ],
      "metadata": {
        "id": "srVakR6HVSez"
      }
    },
    {
      "cell_type": "code",
      "source": [
        "# Distribution of Salaries\n",
        "plt.figure(figsize=(10, 6))\n",
        "sns.histplot(data=salary, x='salary_avg', bins=30, kde=True)\n",
        "plt.title('Distribution of Average Salary')\n",
        "plt.xlabel('Salary')\n",
        "plt.ylabel('Frequency')\n",
        "plt.show()"
      ],
      "metadata": {
        "colab": {
          "base_uri": "https://localhost:8080/",
          "height": 564
        },
        "id": "gwSTxq8_0pou",
        "outputId": "63ffd436-3339-44d3-ee1b-6fef58632a16"
      },
      "execution_count": null,
      "outputs": [
        {
          "output_type": "display_data",
          "data": {
            "text/plain": [
              "<Figure size 1000x600 with 1 Axes>"
            ],
            "image/png": "[encoded data removed]"
          },
          "metadata": {}
        }
      ]
    },
    {
      "cell_type": "code",
      "source": [
        "# number of unique company_name in the dataset\n",
        "num_companies = salary['company_name'].nunique()\n",
        "num_companies"
      ],
      "metadata": {
        "colab": {
          "base_uri": "https://localhost:8080/"
        },
        "id": "6BjyTw-I8ple",
        "outputId": "d878960a-2745-412b-80f5-d94f7bb75ffb"
      },
      "execution_count": null,
      "outputs": [
        {
          "output_type": "execute_result",
          "data": {
            "text/plain": [
              "495"
            ]
          },
          "metadata": {},
          "execution_count": 24
        }
      ]
    },
    {
      "cell_type": "markdown",
      "source": [
        "The number of companies we have is so large that for a more visual analysis we will take the top 10 companies that offer the most jobs. Note that the table of job offers we provide below only gives the reader a visual representation of which companies dominate the market, and we still consider all companies in our analysis, not just the ten companies."
      ],
      "metadata": {
        "id": "I5IKYUtM8xFT"
      }
    },
    {
      "cell_type": "code",
      "source": [
        "# generate the bar plot, show the top 10 companies with the highest job counts are selected. We find that Cox Cimmunications has the most job count.\n",
        "top_10_companies = salary['company_name'].value_counts().nlargest(10)\n",
        "\n",
        "# Visualization of top 10 companies\n",
        "plt.figure(figsize=(10, 6))\n",
        "top_10_companies.plot(kind='bar')\n",
        "plt.title('Count of Jobs by Top 10 Companies')\n",
        "plt.xlabel('Company')\n",
        "plt.ylabel('Count')\n",
        "plt.show()"
      ],
      "metadata": {
        "colab": {
          "base_uri": "https://localhost:8080/",
          "height": 710
        },
        "id": "kDTG_rTF0wi2",
        "outputId": "d0661d35-99a9-4764-8a77-7daeb330a3d3"
      },
      "execution_count": null,
      "outputs": [
        {
          "output_type": "display_data",
          "data": {
            "text/plain": [
              "<Figure size 1000x600 with 1 Axes>"
            ],
            "image/png": "[encoded data removed]"
          },
          "metadata": {}
        }
      ]
    },
    {
      "cell_type": "code",
      "source": [
        "# number of unique locations in the dataset\n",
        "num_locations = salary['location'].nunique()\n",
        "\n",
        "print(\"There are {} unique locations in the dataset.\".format(num_locations))"
      ],
      "metadata": {
        "colab": {
          "base_uri": "https://localhost:8080/"
        },
        "id": "rjF-eUAT_iB-",
        "outputId": "3c116bce-858d-4b6f-8df9-5d9c8acc0a4d"
      },
      "execution_count": null,
      "outputs": [
        {
          "output_type": "stream",
          "name": "stdout",
          "text": [
            "There are 168 unique locations in the dataset.\n"
          ]
        }
      ]
    },
    {
      "cell_type": "markdown",
      "source": [
        "Similarly, we have arranged the first 10 positions of the location to make a more intuitive representation."
      ],
      "metadata": {
        "id": "ACiLkWk6_i2l"
      }
    },
    {
      "cell_type": "code",
      "source": [
        "# generate a bar plot of the top 10 job locations based on the count of jobs available in each location, we find that Jefferson City, MO has the most count of jobs.\n",
        "\n",
        "Location = salary[(salary['location'] != 'Anywhere') & (salary['location'] != ' Anywhere ') & (salary['location'] != 'United States')\n",
        "& (salary['location'] != '  United States   ')]\n",
        "top_10_locations = Location['location'].value_counts().nlargest(10)\n",
        "\n",
        "# Visualization of Top 10 locations\n",
        "plt.figure(figsize=(10, 6))\n",
        "top_10_locations.plot(kind='bar')\n",
        "plt.title('Count of Jobs by Top 10 Locations')\n",
        "plt.xlabel('Locations')\n",
        "plt.ylabel('Count')\n",
        "plt.show()"
      ],
      "metadata": {
        "colab": {
          "base_uri": "https://localhost:8080/",
          "height": 681
        },
        "id": "Ftbqgzmt21A3",
        "outputId": "aadcf1bb-8f3a-4308-f1b3-0ac0bb8a08ce"
      },
      "execution_count": null,
      "outputs": [
        {
          "output_type": "display_data",
          "data": {
            "text/plain": [
              "<Figure size 1000x600 with 1 Axes>"
            ],
            "image/png": "[encoded data removed]"
          },
          "metadata": {}
        }
      ]
    },
    {
      "cell_type": "code",
      "source": [
        "# generate a bar plot and visualization and the percentage of each language that is in demand, we find the highest ratio of jobs requiring skill is r language, mysql is the lowest ratio of jobs\n",
        "# requiring language.\n",
        "Languages = ['mysql', 'excel', 'python', 'r', 'c', 'java', 'aws', 'spark']\n",
        "ratios = [salary[lang].mean() for lang in Languages]\n",
        "\n",
        "plt.figure(figsize=(10, 6))\n",
        "plt.bar(Languages, ratios)\n",
        "plt.xlabel('Language')\n",
        "plt.ylabel('Ratio of Jobs Requiring This Skill')\n",
        "plt.title('Ratio of Jobs Requiring Each Language')\n",
        "plt.show()"
      ],
      "metadata": {
        "colab": {
          "base_uri": "https://localhost:8080/",
          "height": 564
        },
        "id": "CeqEZWjJ6f4v",
        "outputId": "dc79a323-a29e-4767-e769-23ef6aadc4a7"
      },
      "execution_count": null,
      "outputs": [
        {
          "output_type": "display_data",
          "data": {
            "text/plain": [
              "<Figure size 1000x600 with 1 Axes>"
            ],
            "image/png": "[encoded data removed]"
          },
          "metadata": {}
        }
      ]
    },
    {
      "cell_type": "code",
      "source": [
        "# provide information for Companys' benefit offerings, we find that ratio of full-time require more than work from home.\n",
        "benefits = ['Full-Time require', 'Health insurance', 'Dental insurance', 'Paid time off', 'Work from home']\n",
        "ratios = [salary[b].mean() for b in benefits]\n",
        "\n",
        "# Visualization of Companys' benefit offerings\n",
        "plt.figure(figsize=(10, 6))\n",
        "plt.bar(benefits, ratios)\n",
        "plt.xlabel('Benefit')\n",
        "plt.ylabel('Ratio of Jobs Offering This Benefit')\n",
        "plt.title('Ratio of Jobs Offering Each Benefit')\n",
        "plt.show()"
      ],
      "metadata": {
        "colab": {
          "base_uri": "https://localhost:8080/",
          "height": 564
        },
        "id": "RNX0MNaj6vqE",
        "outputId": "07ddb4a6-e1d7-4304-db92-e178571c0488"
      },
      "execution_count": null,
      "outputs": [
        {
          "output_type": "display_data",
          "data": {
            "text/plain": [
              "<Figure size 1000x600 with 1 Axes>"
            ],
            "image/png": "[encoded data removed]"
          },
          "metadata": {}
        }
      ]
    },
    {
      "cell_type": "markdown",
      "source": [
        "# **Data Analysis & Results**"
      ],
      "metadata": {
        "id": "taXDt9a9DKeH"
      }
    },
    {
      "cell_type": "markdown",
      "source": [
        "In this section we will begin our data analysis with the goal of finding the effect of four variables on employee wages: company size, location, language required, and benefits offered by the company. In this section we will use correlation tests, linear regression to complete the analysis of the data and visualize them.\n",
        "\n",
        "In this section we also complete a predictive model that predicts the likely salary of a job from the input variables. See the prediction section for more details."
      ],
      "metadata": {
        "id": "6OYErwKPDNTw"
      }
    },
    {
      "cell_type": "markdown",
      "source": [
        "### Correlation between company size and salary"
      ],
      "metadata": {
        "id": "Fs0fNNG7VlwV"
      }
    },
    {
      "cell_type": "markdown",
      "source": [
        "After presenting the jobs offered by the companies we analyzed the number of jobs offered and their corresponding wages to determine whether larger companies (those offering more jobs) would have certain characteristics in terms of wages, such as whether they would offer higher or lower wages."
      ],
      "metadata": {
        "id": "-Leb_JTgCBVG"
      }
    },
    {
      "cell_type": "code",
      "source": [
        "# generate a scatter plot and show the relationship between the average salary and the job count for each company in the dataset. We find that about 165 jobs has about 90000 average salary.\n",
        "company_job_counts = salary['company_name'].value_counts()\n",
        "company_avg_salaries = salary.groupby('company_name')['salary_avg'].mean()\n",
        "df_correlation = pd.DataFrame({'Job Count': company_job_counts, 'Average Salary': company_avg_salaries})\n",
        "\n",
        "# visualize the correlation between the average salary and the job count\n",
        "plt.figure(figsize=(10, 6))\n",
        "plt.scatter(df_correlation['Average Salary'], df_correlation['Job Count'], alpha=0.5)\n",
        "plt.title('Scatter plot of Average Salary and Job Count by Company')\n",
        "plt.xlabel('Average Salary')\n",
        "plt.ylabel('Job Count')\n",
        "plt.grid(True)\n",
        "plt.show()"
      ],
      "metadata": {
        "colab": {
          "base_uri": "https://localhost:8080/",
          "height": 564
        },
        "id": "HP2UrRPW_xeh",
        "outputId": "225a47ea-28eb-4d63-da5d-f5ac61f9da16"
      },
      "execution_count": null,
      "outputs": [
        {
          "output_type": "display_data",
          "data": {
            "text/plain": [
              "<Figure size 1000x600 with 1 Axes>"
            ],
            "image/png": "[encoded data removed]"
          },
          "metadata": {}
        }
      ]
    },
    {
      "cell_type": "code",
      "source": [
        "#Calculate the Pearson correlation coefficient between average salary and number of jobs\n",
        "correlation = df_correlation['Average Salary'].corr(df_correlation['Job Count'])\n",
        "print(f'The correlation between average salary and job count is {correlation:.2f}')"
      ],
      "metadata": {
        "colab": {
          "base_uri": "https://localhost:8080/"
        },
        "id": "-O640U9aGqMl",
        "outputId": "2f8de2b8-94f5-40d1-e2c9-cb9fc658dfa7"
      },
      "execution_count": null,
      "outputs": [
        {
          "output_type": "stream",
          "name": "stdout",
          "text": [
            "The correlation between average salary and job count is 0.04\n"
          ]
        }
      ]
    },
    {
      "cell_type": "markdown",
      "source": [
        "The scatter plot shows that there is no statistical correlation between the size of the company (as reflected in the number of jobs offered) and the wage, and that even companies offering small jobs can offer very high wages. The wages offered by those large companies are still within the normal distribution rather than extreme values. We therefore conclude that firm size has a limited effect on wage levels. This is supported by our calculation of the Pearson correlation coefficient"
      ],
      "metadata": {
        "id": "FU9BIyppCC1i"
      }
    },
    {
      "cell_type": "markdown",
      "source": [
        "### Correlation between location and salary"
      ],
      "metadata": {
        "id": "-pUsV9UbVqWW"
      }
    },
    {
      "cell_type": "markdown",
      "source": [
        "We then used regression analysis to analyze the relationship between location and salary, and we wanted to know whether location affects the level of salary"
      ],
      "metadata": {
        "id": "mt9QCTsNJH9z"
      }
    },
    {
      "cell_type": "code",
      "source": [
        "#Conduct regressivity analysis\n",
        "model_formula = 'salary_avg ~ C(location)'\n",
        "results = smf.ols(formula=model_formula, data=salary).fit()\n",
        "print(results.summary())"
      ],
      "metadata": {
        "colab": {
          "base_uri": "https://localhost:8080/"
        },
        "id": "lHcxR5azAggM",
        "outputId": "fe167107-d625-4880-dc0e-0506ab9351b4"
      },
      "execution_count": null,
      "outputs": [
        {
          "output_type": "stream",
          "name": "stdout",
          "text": [
            "                            OLS Regression Results                            \n",
            "==============================================================================\n",
            "Dep. Variable:             salary_avg   R-squared:                       0.229\n",
            "Model:                            OLS   Adj. R-squared:                  0.066\n",
            "Method:                 Least Squares   F-statistic:                     1.406\n",
            "Date:                Thu, 15 Jun 2023   Prob (F-statistic):            0.00156\n",
            "Time:                        02:06:00   Log-Likelihood:                -10846.\n",
            "No. Observations:                 957   AIC:                         2.203e+04\n",
            "Df Residuals:                     789   BIC:                         2.284e+04\n",
            "Df Model:                         167                                         \n",
            "Covariance Type:            nonrobust                                         \n",
            "==========================================================================================================\n",
            "                                             coef    std err          t      P>|t|      [0.025      0.975]\n",
            "----------------------------------------------------------------------------------------------------------\n",
            "Intercept                                 8.8e+04   1.57e+04      5.591      0.000    5.71e+04    1.19e+05\n",
            "C(location)[T.  Arcadia, OK   ]         8500.0000   2.73e+04      0.312      0.755    -4.5e+04     6.2e+04\n",
            "C(location)[T.  Bentley, KS   ]         8500.0000   2.73e+04      0.312      0.755    -4.5e+04     6.2e+04\n",
            "C(location)[T.  Benton, KS   ]          8500.0000   2.73e+04      0.312      0.755    -4.5e+04     6.2e+04\n",
            "C(location)[T.  Bethany, OK   ]         8500.0000   2.73e+04      0.312      0.755    -4.5e+04     6.2e+04\n",
            "C(location)[T.  Choctaw, OK   ]         8500.0000   2.73e+04      0.312      0.755    -4.5e+04     6.2e+04\n",
            "C(location)[T.  Clearwater, KS   ]      8500.0000   2.73e+04      0.312      0.755    -4.5e+04     6.2e+04\n",
            "C(location)[T.  Columbia, MO   ]         -3.1e+04   2.73e+04     -1.137      0.256   -8.45e+04    2.25e+04\n",
            "C(location)[T.  Derby, KS   ]           8500.0000   2.73e+04      0.312      0.755    -4.5e+04     6.2e+04\n",
            "C(location)[T.  Edmond, OK   ]          8500.0000   2.73e+04      0.312      0.755    -4.5e+04     6.2e+04\n",
            "C(location)[T.  Goddard, KS   ]         8500.0000   2.73e+04      0.312      0.755    -4.5e+04     6.2e+04\n",
            "C(location)[T.  Jefferson City, MO   ]    3.7e+04   2.73e+04      1.357      0.175   -1.65e+04    9.05e+04\n",
            "C(location)[T.  Jones, OK   ]           8500.0000   2.73e+04      0.312      0.755    -4.5e+04     6.2e+04\n",
            "C(location)[T.  Kansas City, MO   ]     2000.0000   2.23e+04      0.090      0.928   -4.17e+04    4.57e+04\n",
            "C(location)[T.  Lee's Summit, MO   ]      2.7e+04   2.73e+04      0.990      0.322   -2.65e+04    8.05e+04\n",
            "C(location)[T.  Maize, KS   ]           8500.0000   2.73e+04      0.312      0.755    -4.5e+04     6.2e+04\n",
            "C(location)[T.  McConnell AFB, KS   ]   8500.0000   2.73e+04      0.312      0.755    -4.5e+04     6.2e+04\n",
            "C(location)[T.  Midwest City, OK   ]    8500.0000   2.73e+04      0.312      0.755    -4.5e+04     6.2e+04\n",
            "C(location)[T.  Moore, OK   ]          -5.918e-10   2.23e+04  -2.66e-14      1.000   -4.37e+04    4.37e+04\n",
            "C(location)[T.  Mulvane, KS   ]         8500.0000   2.73e+04      0.312      0.755    -4.5e+04     6.2e+04\n",
            "C(location)[T.  Mustang, OK   ]         8500.0000   2.73e+04      0.312      0.755    -4.5e+04     6.2e+04\n",
            "C(location)[T.  Nicoma Park, OK   ]     8500.0000   2.73e+04      0.312      0.755    -4.5e+04     6.2e+04\n",
            "C(location)[T.  Oklahoma City, OK   ]   1.875e+04   2.23e+04      0.842      0.400   -2.49e+04    6.24e+04\n",
            "C(location)[T.  Olathe, KS   ]          -2.05e+04   2.73e+04     -0.752      0.452    -7.4e+04     3.3e+04\n",
            "C(location)[T.  Overland Park, KS   ]   2000.0000   2.73e+04      0.073      0.942   -5.15e+04    5.55e+04\n",
            "C(location)[T.  Piedmont, OK   ]        8500.0000   2.73e+04      0.312      0.755    -4.5e+04     6.2e+04\n",
            "C(location)[T.  Rose Hill, KS   ]       8500.0000   2.73e+04      0.312      0.755    -4.5e+04     6.2e+04\n",
            "C(location)[T.  Springdale, AR   ]      8500.0000   2.73e+04      0.312      0.755    -4.5e+04     6.2e+04\n",
            "C(location)[T.  The Village, OK   ]     8500.0000   2.73e+04      0.312      0.755    -4.5e+04     6.2e+04\n",
            "C(location)[T.  Topeka, KS   ]            3.7e+04   2.73e+04      1.357      0.175   -1.65e+04    9.05e+04\n",
            "C(location)[T.  Tulsa, OK   ]           6400.0000   1.86e+04      0.344      0.731   -3.02e+04     4.3e+04\n",
            "C(location)[T.  Tuttle, OK   ]          8500.0000   2.23e+04      0.382      0.703   -3.52e+04    5.22e+04\n",
            "C(location)[T.  United States   ]         1.1e+04   1.61e+04      0.683      0.495   -2.06e+04    4.26e+04\n",
            "C(location)[T.  Valley Brook, OK   ]    8500.0000   2.73e+04      0.312      0.755    -4.5e+04     6.2e+04\n",
            "C(location)[T.  Valley Center, KS   ]   8500.0000   2.23e+04      0.382      0.703   -3.52e+04    5.22e+04\n",
            "C(location)[T.  Warr Acres, OK   ]      8500.0000   2.73e+04      0.312      0.755    -4.5e+04     6.2e+04\n",
            "C(location)[T.  Yukon, OK   ]           8500.0000   2.73e+04      0.312      0.755    -4.5e+04     6.2e+04\n",
            "C(location)[T. Anywhere ]               5043.6247   1.59e+04      0.317      0.752   -2.62e+04    3.63e+04\n",
            "C(location)[T.All, MO]                  -1.38e+04   2.23e+04     -0.620      0.535   -5.75e+04    2.99e+04\n",
            "C(location)[T.Alma, MO]                 3.613e+04   2.23e+04      1.623      0.105   -7564.099    7.98e+04\n",
            "C(location)[T.Andover, KS]              8500.0000   1.93e+04      0.441      0.659   -2.93e+04    4.63e+04\n",
            "C(location)[T.Anywhere]                 5365.5849   1.58e+04      0.340      0.734   -2.56e+04    3.64e+04\n",
            "C(location)[T.Arcadia, OK]              8500.0000   2.03e+04      0.418      0.676   -3.14e+04    4.84e+04\n",
            "C(location)[T.Bates City, MO]           1.578e+04   2.73e+04      0.579      0.563   -3.77e+04    6.93e+04\n",
            "C(location)[T.Bel Aire, KS]             8500.0000   2.23e+04      0.382      0.703   -3.52e+04    5.22e+04\n",
            "C(location)[T.Belle, MO]                3.613e+04   2.23e+04      1.623      0.105   -7564.099    7.98e+04\n",
            "C(location)[T.Bentley, KS]              8500.0000   2.03e+04      0.418      0.676   -3.14e+04    4.84e+04\n",
            "C(location)[T.Benton, KS]               1.355e+04   1.93e+04      0.703      0.482   -2.43e+04    5.14e+04\n",
            "C(location)[T.Bentonville, AR]          1.825e+04   1.93e+04      0.947      0.344   -1.96e+04    5.61e+04\n",
            "C(location)[T.Bethany, OK]              8500.0000   2.23e+04      0.382      0.703   -3.52e+04    5.22e+04\n",
            "C(location)[T.Bonnots Mill, MO]         1.578e+04   2.73e+04      0.579      0.563   -3.77e+04    6.93e+04\n",
            "C(location)[T.Boonville, MO]            3.613e+04   2.23e+04      1.623      0.105   -7564.099    7.98e+04\n",
            "C(location)[T.Broken Arrow, OK]          -3.3e+04   2.73e+04     -1.210      0.226   -8.65e+04    2.05e+04\n",
            "C(location)[T.Calhoun, MO]              5.648e+04   2.73e+04      2.072      0.039    2965.846     1.1e+05\n",
            "C(location)[T.California, MO]           5.648e+04   2.73e+04      2.072      0.039    2965.846     1.1e+05\n",
            "C(location)[T.Centertown, MO]           1.578e+04   2.73e+04      0.579      0.563   -3.77e+04    6.93e+04\n",
            "C(location)[T.Centralia, MO]            3.613e+04   2.23e+04      1.623      0.105   -7564.099    7.98e+04\n",
            "C(location)[T.Chamois, MO]              1.578e+04   2.73e+04      0.579      0.563   -3.77e+04    6.93e+04\n",
            "C(location)[T.Choctaw, OK]              1.355e+04   1.93e+04      0.703      0.482   -2.43e+04    5.14e+04\n",
            "C(location)[T.Clearwater, KS]           8500.0000   2.23e+04      0.382      0.703   -3.52e+04    5.22e+04\n",
            "C(location)[T.Columbia, MO]             1.134e+04   1.76e+04      0.645      0.519   -2.32e+04    4.59e+04\n",
            "C(location)[T.Colwich, KS]              8500.0000   2.03e+04      0.418      0.676   -3.14e+04    4.84e+04\n",
            "C(location)[T.Cuba, MO]                 5.648e+04   2.73e+04      2.072      0.039    2965.846     1.1e+05\n",
            "C(location)[T.Del City, OK]              1.16e+04   2.03e+04      0.571      0.568   -2.83e+04    5.15e+04\n",
            "C(location)[T.Derby, KS]                8500.0000   2.23e+04      0.382      0.703   -3.52e+04    5.22e+04\n",
            "C(location)[T.Devils Elbow, MO]         3.558e+04   2.03e+04      1.751      0.080   -4310.547    7.55e+04\n",
            "C(location)[T.Dixon, MO]                2.513e+04   2.23e+04      1.129      0.259   -1.86e+04    6.88e+04\n",
            "C(location)[T.Duke, MO]                 1.578e+04   2.73e+04      0.579      0.563   -3.77e+04    6.93e+04\n",
            "C(location)[T.Edmond, OK]                1.33e+04   1.93e+04      0.690      0.490   -2.45e+04    5.11e+04\n",
            "C(location)[T.Emma, MO]                 5.648e+04   2.73e+04      2.072      0.039    2965.846     1.1e+05\n",
            "C(location)[T.Eugene, MO]               5.648e+04   2.73e+04      2.072      0.039    2965.846     1.1e+05\n",
            "C(location)[T.Fairmont, OK]            -1.265e+04   2.73e+04     -0.464      0.643   -6.62e+04    4.09e+04\n",
            "C(location)[T.Fayette, MO]              1.578e+04   2.73e+04      0.579      0.563   -3.77e+04    6.93e+04\n",
            "C(location)[T.Freeburg, MO]             1.578e+04   2.23e+04      0.709      0.479   -2.79e+04    5.95e+04\n",
            "C(location)[T.Fulton, MO]               5.648e+04   2.73e+04      2.072      0.039    2965.846     1.1e+05\n",
            "C(location)[T.Goddard, KS]              1.254e+04   1.86e+04      0.673      0.501    -2.4e+04    4.91e+04\n",
            "C(location)[T.Hartsburg, MO]            1.578e+04   2.23e+04      0.709      0.479   -2.79e+04    5.95e+04\n",
            "C(location)[T.Haysville, KS]            1.355e+04   1.93e+04      0.703      0.482   -2.43e+04    5.14e+04\n",
            "C(location)[T.High Point, MO]           5.648e+04   2.73e+04      2.072      0.039    2965.846     1.1e+05\n",
            "C(location)[T.Holden, MO]               4.548e+04   2.23e+04      2.043      0.041    1780.651    8.92e+04\n",
            "C(location)[T.Houstonia, MO]            1.578e+04   2.73e+04      0.579      0.563   -3.77e+04    6.93e+04\n",
            "C(location)[T.Hurley, MO]               5.648e+04   2.23e+04      2.537      0.011    1.28e+04       1e+05\n",
            "C(location)[T.Jamestown, MO]            5.648e+04   2.73e+04      2.072      0.039    2965.846     1.1e+05\n",
            "C(location)[T.Jefferson City, MO]       9402.0000   1.71e+04      0.549      0.583   -2.42e+04     4.3e+04\n",
            "C(location)[T.Jerome, MO]               3.447e+04   2.73e+04      1.264      0.206    -1.9e+04     8.8e+04\n",
            "C(location)[T.Jones, OK]                8500.0000   2.23e+04      0.382      0.703   -3.52e+04    5.22e+04\n",
            "C(location)[T.Kansas]                  -2.869e+04   2.73e+04     -1.052      0.293   -8.22e+04    2.48e+04\n",
            "C(location)[T.Kansas City, KS]          3.075e+04   2.23e+04      1.381      0.168   -1.29e+04    7.44e+04\n",
            "C(location)[T.Kansas City, MO]          6829.3000   1.72e+04      0.396      0.692    -2.7e+04    4.07e+04\n",
            "C(location)[T.Kechi, KS]                8500.0000   2.03e+04      0.418      0.676   -3.14e+04    4.84e+04\n",
            "C(location)[T.Kingsville, MO]           1.578e+04   2.73e+04      0.579      0.563   -3.77e+04    6.93e+04\n",
            "C(location)[T.Knob Noster, MO]          1.578e+04   2.73e+04      0.579      0.563   -3.77e+04    6.93e+04\n",
            "C(location)[T.Lake Lotawana, MO]        5.648e+04   2.23e+04      2.537      0.011    1.28e+04       1e+05\n",
            "C(location)[T.Leavenworth, KS]          2000.0000   2.73e+04      0.073      0.942   -5.15e+04    5.55e+04\n",
            "C(location)[T.Lee's Summit, MO]           2.7e+04   2.23e+04      1.213      0.226   -1.67e+04    7.07e+04\n",
            "C(location)[T.Leeton, MO]               3.447e+04   2.73e+04      1.264      0.206    -1.9e+04     8.8e+04\n",
            "C(location)[T.Linn, MO]                 5.648e+04   2.73e+04      2.072      0.039    2965.846     1.1e+05\n",
            "C(location)[T.Lone Jack, MO]            1.578e+04   2.73e+04      0.579      0.563   -3.77e+04    6.93e+04\n",
            "C(location)[T.Loose Creek, MO]          5.648e+04   2.73e+04      2.072      0.039    2965.846     1.1e+05\n",
            "C(location)[T.Maize, KS]                8500.0000   2.03e+04      0.418      0.676   -3.14e+04    4.84e+04\n",
            "C(location)[T.Manhattan, KS]           -1.756e+04   2.73e+04     -0.644      0.520   -7.11e+04     3.6e+04\n",
            "C(location)[T.Marionville, MO]          3.447e+04   2.73e+04      1.264      0.206    -1.9e+04     8.8e+04\n",
            "C(location)[T.Marshfield, MO]           5.648e+04   2.73e+04      2.072      0.039    2965.846     1.1e+05\n",
            "C(location)[T.McConnell AFB, KS]        8500.0000   2.03e+04      0.418      0.676   -3.14e+04    4.84e+04\n",
            "C(location)[T.Meta, MO]                 5.648e+04   2.73e+04      2.072      0.039    2965.846     1.1e+05\n",
            "C(location)[T.Midwest City, OK]         1.082e+04   1.93e+04      0.562      0.575    -2.7e+04    4.87e+04\n",
            "C(location)[T.Missouri]                 3.246e+04   1.82e+04      1.786      0.074   -3214.353    6.81e+04\n",
            "C(location)[T.Missouri City, MO]        1.578e+04   2.73e+04      0.579      0.563   -3.77e+04    6.93e+04\n",
            "C(location)[T.Moore, OK]                8500.0000   2.23e+04      0.382      0.703   -3.52e+04    5.22e+04\n",
            "C(location)[T.Morrisville, MO]          1.578e+04   2.73e+04      0.579      0.563   -3.77e+04    6.93e+04\n",
            "C(location)[T.Mountain View, CA]        7857.0000   2.23e+04      0.353      0.724   -3.58e+04    5.16e+04\n",
            "C(location)[T.Mulvane, KS]              1.355e+04   1.93e+04      0.703      0.482   -2.43e+04    5.14e+04\n",
            "C(location)[T.Mustang, OK]              8500.0000   2.03e+04      0.418      0.676   -3.14e+04    4.84e+04\n",
            "C(location)[T.Nevada, MO]                 2.7e+04   2.73e+04      0.990      0.322   -2.65e+04    8.05e+04\n",
            "C(location)[T.New Bloomfield, MO]       3.613e+04   2.23e+04      1.623      0.105   -7564.099    7.98e+04\n",
            "C(location)[T.New Franklin, MO]         5.648e+04   2.73e+04      2.072      0.039    2965.846     1.1e+05\n",
            "C(location)[T.Nicoma Park, OK]          8500.0000   2.23e+04      0.382      0.703   -3.52e+04    5.22e+04\n",
            "C(location)[T.Nixa, MO]                 3.447e+04   2.73e+04      1.264      0.206    -1.9e+04     8.8e+04\n",
            "C(location)[T.Norman, OK]              -1.265e+04   2.73e+04     -0.464      0.643   -6.62e+04    4.09e+04\n",
            "C(location)[T.Oklahoma]                  -4.5e+04   2.73e+04     -1.651      0.099   -9.85e+04    8515.654\n",
            "C(location)[T.Oklahoma City, OK]        7310.9778   1.74e+04      0.420      0.674   -2.68e+04    4.15e+04\n",
            "C(location)[T.Olathe, KS]              -2.045e+04   2.73e+04     -0.750      0.453    -7.4e+04    3.31e+04\n",
            "C(location)[T.Olean, MO]                1.578e+04   2.73e+04      0.579      0.563   -3.77e+04    6.93e+04\n",
            "C(location)[T.Overland Park, KS]        1.927e+04   1.82e+04      1.060      0.289   -1.64e+04    5.49e+04\n",
            "C(location)[T.Palo Alto, CA]            2000.0000   2.73e+04      0.073      0.942   -5.15e+04    5.55e+04\n",
            "C(location)[T.Paris, TX]                5.052e+04   2.73e+04      1.853      0.064   -2999.654    1.04e+05\n",
            "C(location)[T.Park City, KS]            8500.0000   2.03e+04      0.418      0.676   -3.14e+04    4.84e+04\n",
            "C(location)[T.Piedmont, OK]             8500.0000   2.23e+04      0.382      0.703   -3.52e+04    5.22e+04\n",
            "C(location)[T.Prairie Home, MO]         1.578e+04   2.73e+04      0.579      0.563   -3.77e+04    6.93e+04\n",
            "C(location)[T.Prairie Village, KS]     -3.499e+04   2.73e+04     -1.283      0.200   -8.85e+04    1.85e+04\n",
            "C(location)[T.Richards, MO]            -7320.3350   2.73e+04     -0.269      0.788   -6.08e+04    4.62e+04\n",
            "C(location)[T.Rogers, AR]              -3000.0000   2.73e+04     -0.110      0.912   -5.65e+04    5.05e+04\n",
            "C(location)[T.Rolla, MO]                4.095e+04   1.86e+04      2.199      0.028    4394.548    7.75e+04\n",
            "C(location)[T.Rose Hill, KS]            8500.0000   2.03e+04      0.418      0.676   -3.14e+04    4.84e+04\n",
            "C(location)[T.San Francisco, CA]        5.202e+04   2.23e+04      2.337      0.020    8323.651    9.57e+04\n",
            "C(location)[T.San Jose, CA]            -2.212e+04   2.73e+04     -0.811      0.417   -7.56e+04    3.14e+04\n",
            "C(location)[T.San Mateo, CA]            2000.0000   2.73e+04      0.073      0.942   -5.15e+04    5.55e+04\n",
            "C(location)[T.Shawnee, KS]               -3.3e+04   2.73e+04     -1.210      0.226   -8.65e+04    2.05e+04\n",
            "C(location)[T.Sparta, MO]               1.578e+04   2.73e+04      0.579      0.563   -3.77e+04    6.93e+04\n",
            "C(location)[T.Spencer, OK]              8500.0000   2.03e+04      0.418      0.676   -3.14e+04    4.84e+04\n",
            "C(location)[T.Springdale, AR]           6875.0000   1.93e+04      0.357      0.721    -3.1e+04    4.47e+04\n",
            "C(location)[T.Springfield, MO]          1.809e+04   2.03e+04      0.890      0.374   -2.18e+04     5.8e+04\n",
            "C(location)[T.St Elizabeth, MO]         1.578e+04   2.73e+04      0.579      0.563   -3.77e+04    6.93e+04\n",
            "C(location)[T.St James, MO]             2.935e+04   2.03e+04      1.444      0.149   -1.05e+04    6.92e+04\n",
            "C(location)[T.St Robert, MO]            5.648e+04   2.73e+04      2.072      0.039    2965.846     1.1e+05\n",
            "C(location)[T.St Thomas, MO]            1.578e+04   2.73e+04      0.579      0.563   -3.77e+04    6.93e+04\n",
            "C(location)[T.Stillwater, OK]            -2.3e+04   2.73e+04     -0.844      0.399   -7.65e+04    3.05e+04\n",
            "C(location)[T.Sturgeon, MO]             2.513e+04   2.23e+04      1.129      0.259   -1.86e+04    6.88e+04\n",
            "C(location)[T.Sweet Springs, MO]        3.613e+04   2.23e+04      1.623      0.105   -7564.099    7.98e+04\n",
            "C(location)[T.Tebbetts, MO]             5.648e+04   2.73e+04      2.072      0.039    2965.846     1.1e+05\n",
            "C(location)[T.The Village, OK]          1.342e+04   1.82e+04      0.738      0.461   -2.23e+04    4.91e+04\n",
            "C(location)[T.Topeka, KS]               -179.4000   1.86e+04     -0.010      0.992   -3.67e+04    3.64e+04\n",
            "C(location)[T.Tulsa, OK]                1450.0000   1.74e+04      0.083      0.934   -3.27e+04    3.56e+04\n",
            "C(location)[T.Turners, MO]              3.613e+04   2.23e+04      1.623      0.105   -7564.099    7.98e+04\n",
            "C(location)[T.Tuttle, OK]               1.587e+04   1.93e+04      0.823      0.410    -2.2e+04    5.37e+04\n",
            "C(location)[T.United States]            1.113e+04   1.58e+04      0.702      0.483      -2e+04    4.22e+04\n",
            "C(location)[T.Valley Brook, OK]         8500.0000   2.03e+04      0.418      0.676   -3.14e+04    4.84e+04\n",
            "C(location)[T.Valley Center, KS]        1.658e+04   1.86e+04      0.890      0.374      -2e+04    5.31e+04\n",
            "C(location)[T.Vienna, MO]               1.578e+04   2.73e+04      0.579      0.563   -3.77e+04    6.93e+04\n",
            "C(location)[T.Walnut Grove, MO]         1.578e+04   2.73e+04      0.579      0.563   -3.77e+04    6.93e+04\n",
            "C(location)[T.Warner, OK]              -1.265e+04   2.73e+04     -0.464      0.643   -6.62e+04    4.09e+04\n",
            "C(location)[T.Warr Acres, OK]           8500.0000   2.03e+04      0.418      0.676   -3.14e+04    4.84e+04\n",
            "C(location)[T.Warrensburg, MO]          3.309e+04   1.82e+04      1.821      0.069   -2588.186    6.88e+04\n",
            "C(location)[T.Westphalia, MO]           3.447e+04   2.73e+04      1.264      0.206    -1.9e+04     8.8e+04\n",
            "C(location)[T.Whiteman AFB, MO]         5.648e+04   2.73e+04      2.072      0.039    2965.846     1.1e+05\n",
            "C(location)[T.Wichita, KS]              7462.5000   1.76e+04      0.424      0.672   -2.71e+04     4.2e+04\n",
            "C(location)[T.Willard, MO]              1.578e+04   2.73e+04      0.579      0.563   -3.77e+04    6.93e+04\n",
            "C(location)[T.Yukon, OK]                4250.0000   1.93e+04      0.220      0.826   -3.36e+04    4.21e+04\n",
            "==============================================================================\n",
            "Omnibus:                       31.014   Durbin-Watson:                   1.189\n",
            "Prob(Omnibus):                  0.000   Jarque-Bera (JB):               34.921\n",
            "Skew:                           0.399   Prob(JB):                     2.61e-08\n",
            "Kurtosis:                       3.490   Cond. No.                         309.\n",
            "==============================================================================\n",
            "\n",
            "Notes:\n",
            "[1] Standard Errors assume that the covariance matrix of the errors is correctly specified.\n"
          ]
        }
      ]
    },
    {
      "cell_type": "markdown",
      "source": [
        "The R-squared (coefficient of determination) is 0.229, indicating that the variation in location (location) on average wage (salary_avg) explains 22.9% of the model.\n",
        "\n",
        "The adjusted R-squared (adjusted coefficient of determination) is 0.066, a value that takes into account the number of independent variables in the model, further indicating that location has a relatively low explanatory power for average wages.\n",
        "\n",
        "The F-statistic (F-statistic) is 1.406, corresponding to a probability (Prob (F-statistic)) of 0.00156. This probability is used to test whether location has a significant effect on average wages. Since the probability is less than the significance level (usually 0.05), we can reject the null hypothesis and conclude that location has a statistically significant effect on average wages.\n",
        "\n",
        "Overall, this regression model suggests that location has some explanatory power on average wages, but the explanatory power is relatively low. Other factors not considered may have a greater impact on average wages. Also, it should be noted that this model is based on the assumption of a linear relationship, while the actual situation may involve more complex non-linear relationships, and we will make further and more analysis to refine our results afterwards."
      ],
      "metadata": {
        "id": "2gIjScfYJo9R"
      }
    },
    {
      "cell_type": "markdown",
      "source": [
        "# **Correlation between Language  and salary**"
      ],
      "metadata": {
        "id": "sg-U9NxQJtZ8"
      }
    },
    {
      "cell_type": "markdown",
      "source": [
        "Part 1: relationship between different programming languages themselves and salary"
      ],
      "metadata": {
        "id": "U1oKxulkWmte"
      }
    },
    {
      "cell_type": "markdown",
      "source": [
        "In this section we want to find the relationship between a specific programming language and salary, for example, how the mastery of a programming language affects the salary."
      ],
      "metadata": {
        "id": "zEipXU1pn7Pu"
      }
    },
    {
      "cell_type": "code",
      "source": [
        "features = ['mysql', 'excel', 'python', 'r', 'c', 'java', 'aws', 'spark', 'salary_avg']\n",
        "correlation = salary[features].corr()\n",
        "plt.figure(figsize=(10, 8))\n",
        "sns.heatmap(correlation, annot=True, cmap=\"coolwarm\")\n",
        "plt.show()"
      ],
      "metadata": {
        "id": "bZZUpum2XGS3",
        "colab": {
          "base_uri": "https://localhost:8080/",
          "height": 682
        },
        "outputId": "36eea223-d16c-4116-9487-ccba9f9d0a0c"
      },
      "execution_count": null,
      "outputs": [
        {
          "output_type": "display_data",
          "data": {
            "text/plain": [
              "<Figure size 1000x800 with 2 Axes>"
            ],
            "image/png": "[encoded data removed]"
          },
          "metadata": {}
        }
      ]
    },
    {
      "cell_type": "code",
      "source": [
        "language_correlation = correlation['salary_avg'].drop('salary_avg')\n",
        "plt.figure(figsize=(10, 6))\n",
        "plt.bar(language_correlation.index, language_correlation.values)\n",
        "plt.xlabel('Language')\n",
        "plt.ylabel('Correlation')\n",
        "plt.title('Correlation between Languages and Average Salary')\n",
        "plt.xticks(rotation=45)\n",
        "plt.grid(True)\n",
        "plt.show()"
      ],
      "metadata": {
        "colab": {
          "base_uri": "https://localhost:8080/",
          "height": 594
        },
        "id": "1qcFeTttn_u4",
        "outputId": "dbc98465-e514-4e1a-e90c-79418286a502"
      },
      "execution_count": null,
      "outputs": [
        {
          "output_type": "display_data",
          "data": {
            "text/plain": [
              "<Figure size 1000x600 with 1 Axes>"
            ],
            "image/png": "[encoded data removed]"
          },
          "metadata": {}
        }
      ]
    },
    {
      "cell_type": "code",
      "source": [
        "print(correlation[\"salary_avg\"])"
      ],
      "metadata": {
        "colab": {
          "base_uri": "https://localhost:8080/"
        },
        "id": "8Os596DvoDva",
        "outputId": "7963cc36-582d-48c8-f570-c6a9766b9955"
      },
      "execution_count": null,
      "outputs": [
        {
          "output_type": "stream",
          "name": "stdout",
          "text": [
            "mysql        -0.017704\n",
            "excel        -0.239898\n",
            "python        0.104076\n",
            "r            -0.092900\n",
            "c            -0.191569\n",
            "java          0.026157\n",
            "aws           0.014137\n",
            "spark         0.043505\n",
            "salary_avg    1.000000\n",
            "Name: salary_avg, dtype: float64\n"
          ]
        }
      ]
    },
    {
      "cell_type": "markdown",
      "source": [
        "Based on the analysis, we can draw the following conclusions about the correlation between programming languages and salaries\n",
        "\n",
        "1. MySQL: No significant correlation\n",
        "2. Excel: Negative correlation\n",
        "3. Python: Positive correlation\n",
        "4. R: Weak negative correlation\n",
        "5. C: Negative correlation\n",
        "6. Java: No significant correlation\n",
        "7. AWS: No significant correlation\n",
        "8. Spark: No significant correlation\n"
      ],
      "metadata": {
        "id": "cM3_rJeRoEb-"
      }
    },
    {
      "cell_type": "markdown",
      "source": [
        "Part 2: Correlation between numbers of coding skills and average salary"
      ],
      "metadata": {
        "id": "1N8v_5y2mmoy"
      }
    },
    {
      "cell_type": "markdown",
      "source": [
        "Prediction of the correlation between the number of languages mastered and wages using a simple linear regression model"
      ],
      "metadata": {
        "id": "Bw0FcPcBu8Pk"
      }
    },
    {
      "cell_type": "code",
      "source": [
        "from sklearn.linear_model import LinearRegression\n",
        "from sklearn.model_selection import train_test_split\n",
        "from sklearn.metrics import mean_squared_error\n",
        "from sklearn.metrics import r2_score\n",
        "\n",
        "X = salary[['skills']]\n",
        "y = salary['salary_avg']\n",
        "\n",
        "# Create a linear regression model and fit it to the data\n",
        "model = LinearRegression()\n",
        "model.fit(X, y)\n",
        "\n",
        "\n",
        "X_train, X_test, y_train, y_test = train_test_split(X, y, test_size=0.2, random_state=42)\n",
        "\n",
        "# Create a linear regression model and fit it on the training data\n",
        "model = LinearRegression()\n",
        "model.fit(X_train, y_train)\n",
        "\n",
        "# Make predictions on the test set\n",
        "predictions = model.predict(X_test)\n",
        "\n",
        "print('Mean Squared Error:', mean_squared_error(y_test, predictions))\n",
        "print('R-squared:', r2_score(y_test, predictions))\n",
        "\n",
        "plt.scatter(X_test, y_test, color='blue', label='Actual')\n",
        "plt.plot(X_test, predictions, color='red', linewidth=2, label='Predicted')\n",
        "plt.xlabel('Number of Skills(programming languages)')\n",
        "plt.ylabel('Salary Avg')\n",
        "plt.title('Linear Regression: Skills vs. Salary Avg')\n",
        "plt.show()\n"
      ],
      "metadata": {
        "id": "uuQF8Is4anVC",
        "colab": {
          "base_uri": "https://localhost:8080/",
          "height": 508
        },
        "outputId": "0a22e2ed-bd07-477a-97b7-9395f89c27b0"
      },
      "execution_count": null,
      "outputs": [
        {
          "output_type": "stream",
          "name": "stdout",
          "text": [
            "Mean Squared Error: 477963381.54893875\n",
            "R-squared: 0.020415398353847203\n"
          ]
        },
        {
          "output_type": "display_data",
          "data": {
            "text/plain": [
              "<Figure size 640x480 with 1 Axes>"
            ],
            "image/png": "[encoded data removed]"
          },
          "metadata": {}
        }
      ]
    },
    {
      "cell_type": "markdown",
      "source": [
        "\n",
        "oops, we find that the R-squared of the simple linear model is very low, perhaps because the correlation between the data does not show a linear relationship, let's try a polynomial regression model instead\n",
        "\n"
      ],
      "metadata": {
        "id": "lOC9tC8kvDJI"
      }
    },
    {
      "cell_type": "code",
      "source": [
        "from sklearn.preprocessing import PolynomialFeatures\n",
        "from sklearn.pipeline import make_pipeline\n",
        "\n",
        "X = salary[['skills']]\n",
        "y = salary['salary_avg']\n",
        "\n",
        "# Split the dataset into training and testing sets\n",
        "X_train, X_test, y_train, y_test = train_test_split(X, y, test_size=0.2, random_state=42)\n",
        "\n",
        "# Create a pipeline with PolynomialFeatures and LinearRegression\n",
        "model = make_pipeline(PolynomialFeatures(degree=2), LinearRegression())\n",
        "\n",
        "# Fit the model to the training data\n",
        "model.fit(X_train, y_train)\n",
        "\n",
        "# Make predictions on the test set\n",
        "predictions = model.predict(X_test)\n",
        "\n",
        "# Calculate and print evaluation metrics\n",
        "print('Mean Squared Error:', mean_squared_error(y_test, predictions))\n",
        "print('R-squared:', r2_score(y_test, predictions))\n",
        "\n",
        "# Visualize the actual and predicted values using a scatter plot\n",
        "plt.scatter(X_test, y_test, color='blue', label='Actual')\n",
        "plt.scatter(X_test, predictions, color='red', label='Predicted')\n",
        "\n",
        "# Add a legend to the plot\n",
        "plt.legend()\n",
        "\n",
        "# Set the labels for the X and Y axes, and title of the plot\n",
        "plt.xlabel('Number of Skills (programming languages)')\n",
        "plt.ylabel('Average Salary')\n",
        "plt.title('Polynomial Regression: Skills vs. Salary Avg')\n",
        "\n",
        "# Display the plot\n",
        "plt.show()"
      ],
      "metadata": {
        "colab": {
          "base_uri": "https://localhost:8080/",
          "height": 508
        },
        "id": "j2py7EJ5unht",
        "outputId": "b5f1bf39-8e64-47b2-df26-af221504f174"
      },
      "execution_count": null,
      "outputs": [
        {
          "output_type": "stream",
          "name": "stdout",
          "text": [
            "Mean Squared Error: 472691176.06092215\n",
            "R-squared: 0.031220768623089534\n"
          ]
        },
        {
          "output_type": "display_data",
          "data": {
            "text/plain": [
              "<Figure size 640x480 with 1 Axes>"
            ],
            "image/png": "[encoded data removed]"
          },
          "metadata": {}
        }
      ]
    },
    {
      "cell_type": "markdown",
      "source": [
        "However, the multinomial regression also does not perform well (although there is some improvement) so we do not think there is a strong correlation between the number of languages mastered and salary levels - instead, according to the model, they show a very weak negative correlation, which we think may be due to the fact that companies prefer to recruit employees who are fluent in certain languages rather than those who can use multiple computer languages in general"
      ],
      "metadata": {
        "id": "i17UZUSwvdjX"
      }
    },
    {
      "cell_type": "markdown",
      "source": [
        "# **Correlation between employee benefits and wages**"
      ],
      "metadata": {
        "id": "fJqO0ZfSogLZ"
      }
    },
    {
      "cell_type": "markdown",
      "source": [
        "Part 1: relationship between different programming languages themselves and salary"
      ],
      "metadata": {
        "id": "k_VGM3Sjoioj"
      }
    },
    {
      "cell_type": "code",
      "source": [
        "import matplotlib.pyplot as plt\n",
        "import seaborn as sns\n",
        "\n",
        "benefits = ['Full-Time require', 'Health insurance', 'Dental insurance', 'Paid time off', 'Work from home']\n",
        "\n",
        "# Create an empty dictionary to store the benefit correlations\n",
        "benefit_correlations = {}\n",
        "\n",
        "# Calculate the correlation between the 'salary_avg' column and each benefit\n",
        "for benefit in benefits:\n",
        "    correlation = salary['salary_avg'].corr(salary[benefit])\n",
        "    benefit_correlations[benefit] = correlation\n",
        "\n",
        "# Create a figure and set its size\n",
        "plt.figure(figsize=(10, 6))\n",
        "\n",
        "# Plot a bar chart of the benefit correlations\n",
        "plt.bar(benefit_correlations.keys(), benefit_correlations.values())\n",
        "\n",
        "# Set the fontsize of the tick labels\n",
        "plt.tick_params(labelsize=10)\n",
        "\n",
        "# Display the plot\n",
        "plt.show()"
      ],
      "metadata": {
        "colab": {
          "base_uri": "https://localhost:8080/",
          "height": 522
        },
        "id": "szqnU6xYoklX",
        "outputId": "32624ac8-8cd7-49f2-a9ce-9e37b2caf518"
      },
      "execution_count": null,
      "outputs": [
        {
          "output_type": "display_data",
          "data": {
            "text/plain": [
              "<Figure size 1000x600 with 1 Axes>"
            ],
            "image/png": "[encoded data removed]"
          },
          "metadata": {}
        }
      ]
    },
    {
      "cell_type": "code",
      "source": [
        "features = benefits + ['salary_avg']\n",
        "\n",
        "# Calculate the correlation matrix\n",
        "correlation = salary[features].corr()\n",
        "\n",
        "# Create a figure and set its size\n",
        "plt.figure(figsize=(10, 8))\n",
        "\n",
        "# Plot the correlation matrix as a heatmap\n",
        "# Annotate the heatmap with the correlation values\n",
        "# Use the \"Blues\" colormap for the heatmap colors\n",
        "sns.heatmap(correlation, annot=True, cmap=\"Blues\")\n",
        "\n",
        "# Display the plot\n",
        "plt.show()\n"
      ],
      "metadata": {
        "colab": {
          "base_uri": "https://localhost:8080/",
          "height": 786
        },
        "id": "TyoWx2BYona4",
        "outputId": "a5a2f880-3c0d-44f1-e32d-2c90182c6e9c"
      },
      "execution_count": null,
      "outputs": [
        {
          "output_type": "display_data",
          "data": {
            "text/plain": [
              "<Figure size 1000x800 with 2 Axes>"
            ],
            "image/png": "[encoded data removed]"
          },
          "metadata": {}
        }
      ]
    },
    {
      "cell_type": "code",
      "source": [
        "print(correlation[\"salary_avg\"])"
      ],
      "metadata": {
        "colab": {
          "base_uri": "https://localhost:8080/"
        },
        "id": "V9g1boePwCQd",
        "outputId": "4e307ed2-b073-4f34-ab60-bbe4519e1877"
      },
      "execution_count": null,
      "outputs": [
        {
          "output_type": "stream",
          "name": "stdout",
          "text": [
            "Full-Time require    0.044928\n",
            "Health insurance     0.068803\n",
            "Dental insurance    -0.158900\n",
            "Paid time off       -0.159726\n",
            "Work from home      -0.180352\n",
            "salary_avg           1.000000\n",
            "Name: salary_avg, dtype: float64\n"
          ]
        }
      ]
    },
    {
      "cell_type": "markdown",
      "source": [
        "Based on the analysis, we can draw the following conclusions about the correlation between benefits and salaries\n",
        "\n",
        "1. Full-Time require: No significant correlation\n",
        "2. Health insurance: Positive correlation\n",
        "3. Dental insurance: Negative correlation\n",
        "4. Paid time off: Negative correlation\n",
        "5. Work from home: Negative correlation"
      ],
      "metadata": {
        "id": "zYyyA3OPwZon"
      }
    },
    {
      "cell_type": "markdown",
      "source": [
        "Part 2: Correlation between numbers of benefits and average salary"
      ],
      "metadata": {
        "id": "4iU91rDnw3MC"
      }
    },
    {
      "cell_type": "code",
      "source": [
        "salary['total_benefits'] = salary[['Health insurance', 'Dental insurance', 'Paid time off', 'Work from home', 'mysql', 'excel', 'python', 'r', 'c', 'java', 'aws', 'spark']].sum(axis=1)\n",
        "salary.loc[salary['Full-Time require'] == 0, 'total_benefits'] = 0"
      ],
      "metadata": {
        "id": "4IdJszhGgxAO"
      },
      "execution_count": null,
      "outputs": []
    },
    {
      "cell_type": "code",
      "source": [
        "X = salary['total_benefits'].values.reshape(-1, 1)\n",
        "y = salary['salary_avg']\n",
        "\n",
        "# Split the dataset into training and testing sets\n",
        "X_train, X_test, y_train, y_test = train_test_split(X, y, test_size=0.2, random_state=42)\n",
        "\n",
        "# Create a Linear Regression model and train it on the training data\n",
        "model = LinearRegression()\n",
        "model.fit(X_train, y_train)\n",
        "\n",
        "# Make predictions on the test set\n",
        "predictions = model.predict(X_test)\n",
        "\n",
        "# Calculate and print evaluation metrics\n",
        "print('Mean Squared Error:', mean_squared_error(y_test, predictions))\n",
        "print('R-squared:', r2_score(y_test, predictions))\n",
        "\n",
        "# Visualize the actual and predicted values using a scatter plot\n",
        "plt.scatter(X_test, y_test, color='blue', label='Actual')\n",
        "plt.plot(X_test, predictions, color='red', linewidth=2, label='Predicted')\n",
        "\n",
        "# Add legend to the plot\n",
        "plt.legend()\n",
        "\n",
        "# Set the labels for the X and Y axes\n",
        "plt.xlabel('Total Benefits')\n",
        "plt.ylabel('Average Salary')\n",
        "\n",
        "# Display the plot\n",
        "plt.show()\n"
      ],
      "metadata": {
        "colab": {
          "base_uri": "https://localhost:8080/",
          "height": 485
        },
        "id": "S874GlMduOsx",
        "outputId": "fbc6074e-d950-4993-8b78-99aa32241b81"
      },
      "execution_count": null,
      "outputs": [
        {
          "output_type": "stream",
          "name": "stdout",
          "text": [
            "Mean Squared Error: 471606992.7090311\n",
            "R-squared: 0.03344279934316641\n"
          ]
        },
        {
          "output_type": "display_data",
          "data": {
            "text/plain": [
              "<Figure size 640x480 with 1 Axes>"
            ],
            "image/png": "[encoded data removed]"
          },
          "metadata": {}
        }
      ]
    },
    {
      "cell_type": "markdown",
      "source": [
        "Again, after finding that the model did not perform well we changed to a different model, this time we chose to use Random Forest"
      ],
      "metadata": {
        "id": "tKeZPmGHyBxM"
      }
    },
    {
      "cell_type": "code",
      "source": [
        "from sklearn.ensemble import RandomForestRegressor\n",
        "\n",
        "# Define the predictor variable (X) and the target variable (y)\n",
        "X = salary['total_benefits'].values.reshape(-1, 1)\n",
        "y = salary['salary_avg']\n",
        "\n",
        "# Split the dataset into training and testing sets\n",
        "X_train, X_test, y_train, y_test = train_test_split(X, y, test_size=0.2, random_state=42)\n",
        "\n",
        "# Create a Random Forest Regression model and train it on the training data\n",
        "model = RandomForestRegressor(random_state=45)\n",
        "model.fit(X_train, y_train)\n",
        "\n",
        "# Make predictions on the test set\n",
        "predictions = model.predict(X_test)\n",
        "\n",
        "# Calculate and print evaluation metrics\n",
        "print('Mean Squared Error:', mean_squared_error(y_test, predictions))\n",
        "print('R-squared:', r2_score(y_test, predictions))\n",
        "\n",
        "# Visualize the actual and predicted values using a scatter plot\n",
        "plt.scatter(X_test, y_test, color='blue', label='Actual')\n",
        "plt.scatter(X_test, predictions, color='red', label='Predicted')\n",
        "plt.legend()\n",
        "\n",
        "# Set the labels for X and Y axes\n",
        "plt.xlabel('Total Benefits')\n",
        "plt.ylabel('Average Salary')\n",
        "\n",
        "# Display the plot\n",
        "plt.show()\n"
      ],
      "metadata": {
        "colab": {
          "base_uri": "https://localhost:8080/",
          "height": 485
        },
        "id": "3DNy36GssTIf",
        "outputId": "1cc0e04c-0302-4ff2-c147-bfee984f6974"
      },
      "execution_count": null,
      "outputs": [
        {
          "output_type": "stream",
          "name": "stdout",
          "text": [
            "Mean Squared Error: 473099592.4889021\n",
            "R-squared: 0.030383720306517703\n"
          ]
        },
        {
          "output_type": "display_data",
          "data": {
            "text/plain": [
              "<Figure size 640x480 with 1 Axes>"
            ],
            "image/png": "[encoded data removed]"
          },
          "metadata": {}
        }
      ]
    },
    {
      "cell_type": "markdown",
      "source": [
        "However, we find that both linear regressions and random forests perform very poorly - which we believe indicates that there is no strong correlation between the number of benefits and wages."
      ],
      "metadata": {
        "id": "__Boh049yIQJ"
      }
    },
    {
      "cell_type": "markdown",
      "source": [
        "# Predictions"
      ],
      "metadata": {
        "id": "2s_whClmUs8Q"
      }
    },
    {
      "cell_type": "markdown",
      "source": [
        "After performing the analysis we want to complete a prediction program that is able to predict the possible salary of a position based on the input characteristic variables.We will first build the model using some of the variables and then bring in all of them to see what the difference is. We will also use multiple models for comparison"
      ],
      "metadata": {
        "id": "LjyIYGxyzocn"
      }
    },
    {
      "cell_type": "markdown",
      "source": [
        "Here is a program to make predicitions on a person's salary based on the programming languages he knows. The input variable is an array with 8 binary entries (0 or 1) each corresponds to whether he knows the corresponding language or not. For example, if the first entry of the input is 1, it shows the person knows mysql."
      ],
      "metadata": {
        "id": "wUBHWdIvqhAA"
      }
    },
    {
      "cell_type": "code",
      "source": [
        "from sklearn.preprocessing import OneHotEncoder\n",
        "from sklearn.compose import ColumnTransformer\n",
        "from sklearn.linear_model import LinearRegression\n",
        "\n",
        "X = salary[['mysql', 'excel', 'python', \"r\", \"c\", \"java\", \"aws\", \"spark\"]]\n",
        "y = salary['salary_avg']\n",
        "\n",
        "# Perform one-hot encoding for the skills columns\n",
        "encoder = ColumnTransformer(transformers=[('encoder', OneHotEncoder(), [0, 1, 2, 3, 4, 5, 6, 7])], remainder='passthrough')\n",
        "X_encoded = encoder.fit_transform(X)\n",
        "\n",
        "model = LinearRegression()\n",
        "model.fit(X_encoded, y)\n",
        "\n",
        "# Make predictions on new data\n",
        "new_skills = [[1, 0, 1, 0, 0, 1, 1, 1]]  # Example new skills to predict salary for (mysql: 1, excel: 0, python: 1, etc.)\n",
        "new_skills_encoded = encoder.transform(new_skills)\n",
        "predictions = model.predict(new_skills_encoded)\n",
        "\n",
        "print(\"Your estimated salary is:\", predictions)\n"
      ],
      "metadata": {
        "id": "cFViM5eKnGUo",
        "colab": {
          "base_uri": "https://localhost:8080/"
        },
        "outputId": "11b624f9-470d-4aae-80f7-3712ab7a5281"
      },
      "execution_count": null,
      "outputs": [
        {
          "output_type": "stream",
          "name": "stdout",
          "text": [
            "Your estimated salary is: [100864.]\n"
          ]
        },
        {
          "output_type": "stream",
          "name": "stderr",
          "text": [
            "/usr/local/lib/python3.10/dist-packages/sklearn/base.py:439: UserWarning: X does not have valid feature names, but OneHotEncoder was fitted with feature names\n",
            "  warnings.warn(\n"
          ]
        }
      ]
    },
    {
      "cell_type": "markdown",
      "source": [
        "## **Random Forest 1**"
      ],
      "metadata": {
        "id": "wvJsJb3iyNB-"
      }
    },
    {
      "cell_type": "code",
      "source": [
        "#predictions\n",
        "\n",
        "# Preprocessing the data first.\n",
        "# Convert all jobs' company_name that are not from top 8 companies to 'other'.\n",
        "# Convert all jobs' location that are not from top 8 location to 'other'.\n",
        "# Then convert  company_name and location to numerical variable\n",
        "from sklearn.ensemble import AdaBoostRegressor\n",
        "import sklearn.metrics as mt\n",
        "\n",
        "data = salary.copy()\n",
        "data['location'] = data['location'].apply(lambda i: i.strip())\n",
        "top_10_locations = data['location'].value_counts().nlargest(8)\n",
        "top_10_companies = data['company_name'].value_counts().nlargest(4)\n",
        "data['location'] = data['location'].apply(lambda i: i if i in top_10_locations else 'other')\n",
        "data['company_name'] = data['company_name'].apply(lambda i: i if i in top_10_companies else 'other')\n",
        "data = data.drop(columns=['date_time','salary_min', 'salary_max', 'Health insurance', 'Dental insurance'])\n",
        "data = pd.get_dummies(data, columns=['company_name', 'location'])\n",
        "\n",
        "\n",
        "y = data['salary_avg']\n",
        "X = data.drop(columns=['salary_avg'])\n",
        "\n",
        "train_X, test_X, train_y, test_y = train_test_split(X, y, train_size=0.8)\n",
        "train_X_2 = train_X.copy()\n",
        "clf = RandomForestRegressor()\n",
        "clf.fit(train_X, train_y)\n",
        "y_predicted = clf.predict(test_X)\n",
        "\n",
        "linear = AdaBoostRegressor(base_estimator=RandomForestRegressor(), n_estimators=15, learning_rate=0.1)\n",
        "linear.fit(train_X_2, train_y)\n",
        "y_predicted_2 = linear.predict(test_X)\n",
        "\n",
        "mt.mean_absolute_error(test_y, y_predicted), mt.mean_absolute_error(test_y, y_predicted_2), mt.median_absolute_error(test_y, y_predicted), mt.median_absolute_error(test_y, y_predicted_2), mt.mean_squared_error(test_y, y_predicted), mt.mean_squared_error(test_y, y_predicted_2)\n"
      ],
      "metadata": {
        "colab": {
          "base_uri": "https://localhost:8080/"
        },
        "id": "0fDNbv5QG4It",
        "outputId": "cccacac6-60f2-4e40-bd5d-b46bcea73167"
      },
      "execution_count": null,
      "outputs": [
        {
          "output_type": "stream",
          "name": "stderr",
          "text": [
            "/usr/local/lib/python3.10/dist-packages/sklearn/ensemble/_base.py:166: FutureWarning: `base_estimator` was renamed to `estimator` in version 1.2 and will be removed in 1.4.\n",
            "  warnings.warn(\n"
          ]
        },
        {
          "output_type": "execute_result",
          "data": {
            "text/plain": [
              "(15323.85122685061,\n",
              " 15323.174183025782,\n",
              " 10235.661138658506,\n",
              " 10705.610602236637,\n",
              " 453881079.1130738,\n",
              " 436139202.62457156)"
            ]
          },
          "metadata": {},
          "execution_count": 265
        }
      ]
    },
    {
      "cell_type": "code",
      "source": [
        "print(\"Mean Absolute Error:\", mt.mean_absolute_error(test_y, y_predicted))"
      ],
      "metadata": {
        "colab": {
          "base_uri": "https://localhost:8080/"
        },
        "id": "N_lKLanqh5MF",
        "outputId": "c4f247fc-1ffd-43fc-ef32-a8fd3aa7f1b0"
      },
      "execution_count": null,
      "outputs": [
        {
          "output_type": "stream",
          "name": "stdout",
          "text": [
            "Mean Absolute Error: 15323.85122685061\n"
          ]
        }
      ]
    },
    {
      "cell_type": "markdown",
      "source": [
        "In the above model we have selected only some variables that we think are representative for prediction, next we bring the challenge to all the variables to complete the prediction model, we have used several different methods for prediction"
      ],
      "metadata": {
        "id": "fuGe2Sl_iGTE"
      }
    },
    {
      "cell_type": "markdown",
      "source": [
        "## **LinearRegression**"
      ],
      "metadata": {
        "id": "air1DQ9gicMu"
      }
    },
    {
      "cell_type": "code",
      "source": [
        "from sklearn.model_selection import train_test_split\n",
        "from sklearn.linear_model import LinearRegression\n",
        "from sklearn import metrics\n",
        "\n",
        "# Select the features to be used\n",
        "features = ['mysql', 'excel', 'python', 'r', 'c', 'java', 'aws', 'spark', 'Full-Time require', 'Health insurance', 'Dental insurance', 'Paid time off', 'Work from home']\n",
        "\n",
        "# Set the feature variable X and the target variable y\n",
        "X = salary[features]\n",
        "y = salary['salary_avg']\n",
        "\n",
        "# Split the data into training and test sets\n",
        "X_train, X_test, y_train, y_test = train_test_split(X, y, test_size=0.2)\n",
        "\n",
        "# Create a linear regression model\n",
        "model = LinearRegression()\n",
        "\n",
        "# Train the model\n",
        "model.fit(X_train, y_train)\n",
        "\n",
        "# Use the model to make predictions on the test set\n",
        "y_pred = model.predict(X_test)\n",
        "\n",
        "# Evaluate the prediction performance of the model\n",
        "mae = mean_absolute_error(y_test, y_pred)\n",
        "print(f'Mean Absolute Error: {mae}')"
      ],
      "metadata": {
        "colab": {
          "base_uri": "https://localhost:8080/"
        },
        "id": "gajNucWPkXdH",
        "outputId": "b22d998c-e7ab-430e-9760-739c2e369782"
      },
      "execution_count": null,
      "outputs": [
        {
          "output_type": "stream",
          "name": "stdout",
          "text": [
            "Mean Absolute Error: 18309.070694756752\n"
          ]
        }
      ]
    },
    {
      "cell_type": "markdown",
      "source": [
        "## **Gradient Boosting Regressor**"
      ],
      "metadata": {
        "id": "v8sjciCWvOO6"
      }
    },
    {
      "cell_type": "code",
      "source": [
        "from sklearn.preprocessing import LabelEncoder\n",
        "le = LabelEncoder()\n",
        "salary['location'] = le.fit_transform(salary['location'])"
      ],
      "metadata": {
        "id": "Fv_tzolBmW1q"
      },
      "execution_count": null,
      "outputs": []
    },
    {
      "cell_type": "code",
      "source": [
        "from sklearn.model_selection import train_test_split\n",
        "from sklearn.ensemble import GradientBoostingRegressor\n",
        "from sklearn.metrics import mean_squared_error\n",
        "\n",
        "# Select the features for prediction\n",
        "features = ['location', 'mysql', 'excel', 'python', 'r', 'c', 'java', 'aws', 'spark', 'Full-Time require', 'Health insurance', 'Dental insurance', 'Paid time off', 'Work from home']\n",
        "X = salary[features]\n",
        "y = salary['salary_avg']\n",
        "\n",
        "# Split the data into training and test sets\n",
        "X_train, X_test, y_train, y_test = train_test_split(X, y, test_size=0.1, random_state=42)\n",
        "\n",
        "# Create and train the Gradient Boosting Regressor model\n",
        "gbr = GradientBoostingRegressor(n_estimators=100, learning_rate=0.1, max_depth=3, random_state=42)\n",
        "gbr.fit(X_train, y_train)\n",
        "\n",
        "# Evaluate the model's performance on the test set\n",
        "y_pred = gbr.predict(X_test)\n",
        "mse = mean_squared_error(y_test, y_pred)\n",
        "\n",
        "# Use the trained model to predict salaries for new job positions\n",
        "mae = mean_absolute_error(y_test, y_pred)\n",
        "print(f'Mean Absolute Error: {mae}')"
      ],
      "metadata": {
        "colab": {
          "base_uri": "https://localhost:8080/"
        },
        "id": "-VsfaUNBkmWt",
        "outputId": "bebd6086-9926-4159-96c0-d420c1f5d8cb"
      },
      "execution_count": null,
      "outputs": [
        {
          "output_type": "stream",
          "name": "stdout",
          "text": [
            "Mean Absolute Error: 15694.32089114158\n"
          ]
        }
      ]
    },
    {
      "cell_type": "markdown",
      "source": [
        "## **SVR**"
      ],
      "metadata": {
        "id": "CwqgsIOAvSgr"
      }
    },
    {
      "cell_type": "code",
      "source": [
        "from sklearn.svm import SVR\n",
        "from sklearn.metrics import mean_squared_error, mean_absolute_error\n",
        "from sklearn.preprocessing import StandardScaler\n",
        "from sklearn.model_selection import GridSearchCV\n",
        "\n",
        "# Standardize the data\n",
        "scaler = StandardScaler()\n",
        "X_train_scaled = scaler.fit_transform(X_train)\n",
        "X_test_scaled = scaler.transform(X_test)\n",
        "\n",
        "# Define the parameter grid for grid search\n",
        "param_grid = {\n",
        "    'kernel': ['linear', 'poly', 'rbf'],\n",
        "    'C': [0.1, 1.0, 10.0],\n",
        "    'degree': [2, 3, 4]\n",
        "}\n",
        "\n",
        "# Create the SVR model\n",
        "svr = SVR()\n",
        "\n",
        "# Perform grid search with cross-validation to find the best parameters\n",
        "grid_search = GridSearchCV(estimator=svr, param_grid=param_grid, cv=5)\n",
        "grid_search.fit(X_train_scaled, y_train)\n",
        "\n",
        "# Print the best parameter combination and corresponding score\n",
        "print(\"Best Parameters: \", grid_search.best_params_)\n",
        "# Use the best parameters for prediction\n",
        "best_svr = grid_search.best_estimator_\n",
        "y_pred = best_svr.predict(X_test_scaled)\n",
        "\n",
        "mae = mean_absolute_error(y_test, y_pred)\n",
        "print(f'Mean Absolute Error: {mae}')"
      ],
      "metadata": {
        "id": "Z3RqNbE8oBx3",
        "colab": {
          "base_uri": "https://localhost:8080/"
        },
        "outputId": "32959414-9dbd-4b20-dc0a-f7b7b0ae6dbc"
      },
      "execution_count": null,
      "outputs": [
        {
          "output_type": "stream",
          "name": "stdout",
          "text": [
            "Best Parameters:  {'C': 10.0, 'degree': 2, 'kernel': 'linear'}\n",
            "Mean Absolute Error: 16328.99022476399\n"
          ]
        }
      ]
    },
    {
      "cell_type": "markdown",
      "source": [
        "## **Random Forest 2**"
      ],
      "metadata": {
        "id": "XG6Hgn4tvWkj"
      }
    },
    {
      "cell_type": "code",
      "source": [
        "from sklearn.ensemble import RandomForestRegressor\n",
        "from sklearn.metrics import mean_squared_error, mean_absolute_error\n",
        "\n",
        "# Create a Random Forest Regressor model\n",
        "rfr = RandomForestRegressor(n_estimators=100, random_state=45)\n",
        "\n",
        "# Train the model\n",
        "rfr.fit(X_train, y_train)\n",
        "\n",
        "# Make predictions\n",
        "y_pred = rfr.predict(X_test)\n",
        "\n",
        "# Calculate Mean Absolute Error\n",
        "mae = mean_absolute_error(y_test, y_pred)\n",
        "print(f'Mean Absolute Error: {mae}')"
      ],
      "metadata": {
        "id": "eTZFzx1vo2Zh",
        "colab": {
          "base_uri": "https://localhost:8080/"
        },
        "outputId": "08264c6a-d45e-4699-895b-d1b029e936e9"
      },
      "execution_count": null,
      "outputs": [
        {
          "output_type": "stream",
          "name": "stdout",
          "text": [
            "Mean Absolute Error: 14414.76860441381\n"
          ]
        }
      ]
    },
    {
      "cell_type": "markdown",
      "source": [
        "For the wage forecasting task, we focused our attention on Mean Absolute Error (MAE), as it provides an intuitive interpretation of the forecast results and is insensitive to outliers.\n",
        "\n",
        "\n",
        "Although our model is not perfect, by comparing the models we can find that Random Forest performs best when dealing with complex features.\n",
        "\n",
        "\n",
        "This is because random forest is an integrated approach, consisting of multiple decision trees. Each tree can learn feature relationships in the data autonomously, including nonlinear relationships. When there are complex nonlinear relationships between features, random forest can better capture these patterns, while linear models such as linear regression, gradient regression and SVR may not be able to effectively model nonlinear relationships.\n",
        "\n",
        "\n",
        "\n",
        "On the other hand, random forests can provide an assessment of the importance By calculating the importance of each feature in the random forest, we can understand which features contribute more to the prediction results. This helps to filter and select the most relevant features and reduce the influence of irrelevant or redundant features, thus improving the performance of the model.\n",
        "\n",
        "\n",
        "\n",
        "\n",
        "In summary, random forests outperform linear models, such as linear regression, gradient regression, and SVR, in dealing with complex features because of its ability to model nonlinear relationships and feature importance assessment, which makes random forests a powerful tool for dealing with complex features and achieving high-performance predictions.\n",
        "\n",
        "Originally, we expected that adding more variables would make the results worse, because more variables means more interference - well, precisely because of the ability of the random forest to handle abstract features, it performs better (although only a little) after introducing more variables"
      ],
      "metadata": {
        "id": "01T0XmyyyE_k"
      }
    },
    {
      "cell_type": "markdown",
      "source": [
        "#Ethics & Privacy"
      ],
      "metadata": {
        "id": "CgOdthnVUb3A"
      }
    },
    {
      "cell_type": "markdown",
      "source": [
        "In our utilization of the Glassdoor jobs dataset, we recognize the possibility of inherent biases. Our exploration into various factors such as job titles may be limited due to the exclusive use of this dataset. With the rapid advancement of technology, new job roles are constantly emerging, and these might not be fully represented in our dataset. Therefore, we acknowledge that our findings may not entirely reflect the broader job market, especially those roles absent from our dataset. To mitigate this, we will endeavor to incorporate additional datasets in our analysis to enhance the representativeness of our research.\n",
        "\n",
        "When investigating the influence of company ratings, we must consider that these ratings are often subjective, based on individual perceptions and experiences. As such, a certain degree of bias is inevitable. We will carefully handle potential outliers in the data, possibly caused by personal biases, and employ various statistical methods for comparison in an attempt to minimize the impact of these biases.\n",
        "\n",
        "As part of our commitment to transparency and consistent checks for biases, we will iteratively review our analysis methods, and remain open to refining our approach as we move forward. If biases are identified in the future, we will make necessary adjustments to our algorithm or analysis.\n",
        "\n",
        "Regarding data privacy, our dataset mainly comprises generic information about job titles, salary estimates, job descriptions, and ratings, with no personal data included. In the unlikely event that any personal data is found within the datasets, we will promptly de-identify such data to prevent potential re-identification. Our usage of the dataset adheres to its license, which permits its use for research and data analysis without requiring permission. All data used in our study will remain confidential and secure, accessible only by authorized personnel.\n",
        "\n",
        "We are committed to ensuring our analysis is transparent and will adhere strictly to all relevant data privacy laws and ethical standards throughout our research. We will also seek necessary clearances, including Institutional Review Board (IRB) approval if required.\n",
        "\n",
        "Finally, we understand the importance of control and transparency in the use of data. If a request is made for data removal, we will comply promptly. The results of our study will not be used for promotional or commercial activities, and we will strive to ensure that our research is conducted in a manner that earns and maintains the trust of all stakeholders."
      ],
      "metadata": {
        "id": "rnlbuAiBUfNQ"
      }
    },
    {
      "cell_type": "markdown",
      "source": [
        "# Conclusion & Discussion"
      ],
      "metadata": {
        "id": "xa4cSmyQUhQD"
      }
    },
    {
      "cell_type": "markdown",
      "source": [
        "In this project, we used the Data Analyst Job Postings dataset to examine the various factors that may influence the salaries of data analysts. The variables we studied included the company rating, location (city), benefits such as vacation or insurance availability, and required skills. The primary hypothesis was that the number of coding skills mastered by an individual significantly predicts annual salary. This hypothesis stemmed from the belief that having multiple programming skills can demonstrate a wider range of abilities, making a candidate more attractive to employers and improving their bargaining power in salary negotiations.\n",
        "\n",
        "Our analyses involved examining the correlations between individual factors and salaries, followed by the development of predictive models. We found that the size of a company does not significantly correlate with wages. Location, on the other hand, was found to have a statistically significant impact on average wages, but the explanatory power was relatively low. Among the programming languages, Python showed a positive correlation with salary, while Excel and C showed negative correlations. Given these findings, we can **reject** the null hypothesis that the number of coding skills mastered, the location of work, and the company one works for have no significant impact on their annual salary. Instead, our data **supports** the alternative hypothesis, indicating that specific coding skills, location, and certain employee benefits do impact the salary of a data analyst. However, it is worth noting that the number of coding skills mastered did not show a strong correlation with salary levels, suggesting that the types of skills may be more important than the quantity.\n",
        "\n",
        "Finally, there were several limitations to our project. First, our dataset might not be comprehensive enough to capture all the factors that affect salaries. Second, the linear regression models we used might not be able to effectively capture the complex, possibly non-linear relationships between the variables and salaries. Despite these limitations, this work contributes to a better understanding of the factors influencing data analysts' salaries, which can inform individuals and organizations about what to prioritize in career development and recruitment processes. On a societal level, The findings from this study can lead to greater transparency in how salaries are determined in the tech industry. By understanding the factors that truly contribute to salary levels, individuals can have more informed discussions with employers during salary negotiations. Similarly, companies can also ensure they are offering competitive salaries based on concrete data, rather than relying on arbitrary criteria."
      ],
      "metadata": {
        "id": "O5OdEYWeUkzv"
      }
    },
    {
      "cell_type": "markdown",
      "source": [
        "# Team Contributions"
      ],
      "metadata": {
        "id": "gbC1IJSaUmWg"
      }
    },
    {
      "cell_type": "markdown",
      "source": [
        "Zirui Lin: Participated in the completion of data cleaning, analysis/results\n",
        ", discussion section.\n",
        "\n",
        "Kunhao Song: Participated in the completion of prediction, Ethics & Privacy, EDA section.\n",
        "\n",
        "Shiyuan Wang: Participated in the completion of prediction, hypothesis, EDA section.\n",
        "\n",
        "Xinhao Zhao: Participated in data cleaning, EDA, and salary prediction based on programming skills."
      ],
      "metadata": {
        "id": "8gSK5WbPUn0J"
      }
    },
    {
      "cell_type": "markdown",
      "source": [
        "# TimeLine"
      ],
      "metadata": {
        "id": "XDxxgz28sFdd"
      }
    },
    {
      "cell_type": "markdown",
      "source": [
        "\n",
        "| Meeting Date  | Meeting Time| Completed Before Meeting  | Discuss at Meeting |\n",
        "|---|---|---|---|\n",
        "| 4/27  |  3 PM | brainstorm topics/questions(all)  | Determine best form of communication; Discuss and decide on final project topic; discuss hypothesis; begin background research |\n",
        "| 5/2  |  6 PM |  Do background research on topic(all) | Discuss ideal dataset(s) and ethics; draft project proposal |\n",
        "| 5/3  | 3 PM  | Edit, finalize, and submit proposal(Due date: Wed, May 3); Search for datasets(all)  | Discuss Wrangling and possible analytical approaches; Assign group members to lead each specific part   |\n",
        "| 5/17  | 6 PM  | Import & Wrangle Data(checkpoint 1 Data Due: Wed, May 17); start on EDA(all) | Review/Edit wrangling/EDA; Discuss Analysis Plan   |\n",
        "| 5/31  | 12 PM  | Finalize wrangling/EDA; Begin Analysis(checkpoint 2 EDA Due date: Wed, May 31) | Discuss/edit Analysis; Complete project check-in |\n",
        "| 6/11  | 12 PM  | Complete analysis; Draft results/conclusion/discussion(all)| Discuss/edit full project |\n",
        "| 6/14  | Before 11:59 PM  | NA | Turn in Final Project & Group Project Surveys |"
      ],
      "metadata": {
        "id": "M2wdmIJCIjYg"
      }
    }
  ],
  "metadata": {
    "kernelspec": {
      "display_name": "Python 3",
      "language": "python",
      "name": "python3"
    },
    "language_info": {
      "codemirror_mode": {
        "name": "ipython",
        "version": 3
      },
      "file_extension": ".py",
      "mimetype": "text/x-python",
      "name": "python",
      "nbconvert_exporter": "python",
      "pygments_lexer": "ipython3",
      "version": "3.7.9"
    },
    "colab": {
      "provenance": [],
      "toc_visible": true
    }
  },
  "nbformat": 4,
  "nbformat_minor": 0
}